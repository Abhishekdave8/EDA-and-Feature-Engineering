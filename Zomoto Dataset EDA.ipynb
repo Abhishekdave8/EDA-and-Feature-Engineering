{
 "cells": [
  {
   "cell_type": "markdown",
   "id": "be463cce",
   "metadata": {},
   "source": [
    "# Abhishek Dave\n",
    "\n",
    "Linkdin = https://www.linkedin.com/in/tuosiindave8/\n",
    "Github = "
   ]
  },
  {
   "cell_type": "markdown",
   "id": "af7cf276",
   "metadata": {},
   "source": [
    "# Life Cycle of a ML Project\n",
    "1. Understanding the problem statement\n",
    "2. Data Collection\n",
    "3. Data check to perform\n",
    "4. Exploratory Data Analysis\n",
    "5. Data Pre-Processing\n",
    "6. Model Training\n",
    "7. Choose Best Model"
   ]
  },
  {
   "cell_type": "markdown",
   "id": "1928d011",
   "metadata": {},
   "source": [
    "# 1) Problem Statement\n",
    "Zomato Dataset: Taking insights from it."
   ]
  },
  {
   "cell_type": "markdown",
   "id": "bab1bfb0",
   "metadata": {},
   "source": [
    "# 2) Importing Libraries "
   ]
  },
  {
   "cell_type": "code",
   "execution_count": 75,
   "id": "a7ab3845",
   "metadata": {},
   "outputs": [],
   "source": [
    "import pandas as pd\n",
    "import numpy as np\n",
    "import seaborn as sns\n",
    "import matplotlib\n",
    "import matplotlib.pyplot as plt\n",
    "%matplotlib inline"
   ]
  },
  {
   "cell_type": "markdown",
   "id": "c111f1de",
   "metadata": {},
   "source": [
    "# 3) Data Collection\n",
    "Data Source - https://github.com/krishnaik06/5-Days-Live-EDA-and-Feature-Engineering"
   ]
  },
  {
   "cell_type": "code",
   "execution_count": 2,
   "id": "b4dbc877",
   "metadata": {},
   "outputs": [],
   "source": [
    "df = pd.read_csv(r\"C:\\Users\\Abhishek Dave\\Downloads\\5-Days-Live-EDA-and-Feature-Engineering-main\\5-Days-Live-EDA-and-Feature-Engineering-main\\Zomatodataset\\zomato.csv\", encoding ='latin-1') \n",
    "# error utf 8 is comming thats why i used: encoding = 'latin=1'"
   ]
  },
  {
   "cell_type": "code",
   "execution_count": 3,
   "id": "c8690668",
   "metadata": {},
   "outputs": [
    {
     "data": {
      "text/html": [
       "<div>\n",
       "<style scoped>\n",
       "    .dataframe tbody tr th:only-of-type {\n",
       "        vertical-align: middle;\n",
       "    }\n",
       "\n",
       "    .dataframe tbody tr th {\n",
       "        vertical-align: top;\n",
       "    }\n",
       "\n",
       "    .dataframe thead th {\n",
       "        text-align: right;\n",
       "    }\n",
       "</style>\n",
       "<table border=\"1\" class=\"dataframe\">\n",
       "  <thead>\n",
       "    <tr style=\"text-align: right;\">\n",
       "      <th></th>\n",
       "      <th>Restaurant ID</th>\n",
       "      <th>Restaurant Name</th>\n",
       "      <th>Country Code</th>\n",
       "      <th>City</th>\n",
       "      <th>Address</th>\n",
       "      <th>Locality</th>\n",
       "      <th>Locality Verbose</th>\n",
       "      <th>Longitude</th>\n",
       "      <th>Latitude</th>\n",
       "      <th>Cuisines</th>\n",
       "      <th>...</th>\n",
       "      <th>Currency</th>\n",
       "      <th>Has Table booking</th>\n",
       "      <th>Has Online delivery</th>\n",
       "      <th>Is delivering now</th>\n",
       "      <th>Switch to order menu</th>\n",
       "      <th>Price range</th>\n",
       "      <th>Aggregate rating</th>\n",
       "      <th>Rating color</th>\n",
       "      <th>Rating text</th>\n",
       "      <th>Votes</th>\n",
       "    </tr>\n",
       "  </thead>\n",
       "  <tbody>\n",
       "    <tr>\n",
       "      <th>0</th>\n",
       "      <td>6317637</td>\n",
       "      <td>Le Petit Souffle</td>\n",
       "      <td>162</td>\n",
       "      <td>Makati City</td>\n",
       "      <td>Third Floor, Century City Mall, Kalayaan Avenu...</td>\n",
       "      <td>Century City Mall, Poblacion, Makati City</td>\n",
       "      <td>Century City Mall, Poblacion, Makati City, Mak...</td>\n",
       "      <td>121.027535</td>\n",
       "      <td>14.565443</td>\n",
       "      <td>French, Japanese, Desserts</td>\n",
       "      <td>...</td>\n",
       "      <td>Botswana Pula(P)</td>\n",
       "      <td>Yes</td>\n",
       "      <td>No</td>\n",
       "      <td>No</td>\n",
       "      <td>No</td>\n",
       "      <td>3</td>\n",
       "      <td>4.8</td>\n",
       "      <td>Dark Green</td>\n",
       "      <td>Excellent</td>\n",
       "      <td>314</td>\n",
       "    </tr>\n",
       "    <tr>\n",
       "      <th>1</th>\n",
       "      <td>6304287</td>\n",
       "      <td>Izakaya Kikufuji</td>\n",
       "      <td>162</td>\n",
       "      <td>Makati City</td>\n",
       "      <td>Little Tokyo, 2277 Chino Roces Avenue, Legaspi...</td>\n",
       "      <td>Little Tokyo, Legaspi Village, Makati City</td>\n",
       "      <td>Little Tokyo, Legaspi Village, Makati City, Ma...</td>\n",
       "      <td>121.014101</td>\n",
       "      <td>14.553708</td>\n",
       "      <td>Japanese</td>\n",
       "      <td>...</td>\n",
       "      <td>Botswana Pula(P)</td>\n",
       "      <td>Yes</td>\n",
       "      <td>No</td>\n",
       "      <td>No</td>\n",
       "      <td>No</td>\n",
       "      <td>3</td>\n",
       "      <td>4.5</td>\n",
       "      <td>Dark Green</td>\n",
       "      <td>Excellent</td>\n",
       "      <td>591</td>\n",
       "    </tr>\n",
       "    <tr>\n",
       "      <th>2</th>\n",
       "      <td>6300002</td>\n",
       "      <td>Heat - Edsa Shangri-La</td>\n",
       "      <td>162</td>\n",
       "      <td>Mandaluyong City</td>\n",
       "      <td>Edsa Shangri-La, 1 Garden Way, Ortigas, Mandal...</td>\n",
       "      <td>Edsa Shangri-La, Ortigas, Mandaluyong City</td>\n",
       "      <td>Edsa Shangri-La, Ortigas, Mandaluyong City, Ma...</td>\n",
       "      <td>121.056831</td>\n",
       "      <td>14.581404</td>\n",
       "      <td>Seafood, Asian, Filipino, Indian</td>\n",
       "      <td>...</td>\n",
       "      <td>Botswana Pula(P)</td>\n",
       "      <td>Yes</td>\n",
       "      <td>No</td>\n",
       "      <td>No</td>\n",
       "      <td>No</td>\n",
       "      <td>4</td>\n",
       "      <td>4.4</td>\n",
       "      <td>Green</td>\n",
       "      <td>Very Good</td>\n",
       "      <td>270</td>\n",
       "    </tr>\n",
       "    <tr>\n",
       "      <th>3</th>\n",
       "      <td>6318506</td>\n",
       "      <td>Ooma</td>\n",
       "      <td>162</td>\n",
       "      <td>Mandaluyong City</td>\n",
       "      <td>Third Floor, Mega Fashion Hall, SM Megamall, O...</td>\n",
       "      <td>SM Megamall, Ortigas, Mandaluyong City</td>\n",
       "      <td>SM Megamall, Ortigas, Mandaluyong City, Mandal...</td>\n",
       "      <td>121.056475</td>\n",
       "      <td>14.585318</td>\n",
       "      <td>Japanese, Sushi</td>\n",
       "      <td>...</td>\n",
       "      <td>Botswana Pula(P)</td>\n",
       "      <td>No</td>\n",
       "      <td>No</td>\n",
       "      <td>No</td>\n",
       "      <td>No</td>\n",
       "      <td>4</td>\n",
       "      <td>4.9</td>\n",
       "      <td>Dark Green</td>\n",
       "      <td>Excellent</td>\n",
       "      <td>365</td>\n",
       "    </tr>\n",
       "    <tr>\n",
       "      <th>4</th>\n",
       "      <td>6314302</td>\n",
       "      <td>Sambo Kojin</td>\n",
       "      <td>162</td>\n",
       "      <td>Mandaluyong City</td>\n",
       "      <td>Third Floor, Mega Atrium, SM Megamall, Ortigas...</td>\n",
       "      <td>SM Megamall, Ortigas, Mandaluyong City</td>\n",
       "      <td>SM Megamall, Ortigas, Mandaluyong City, Mandal...</td>\n",
       "      <td>121.057508</td>\n",
       "      <td>14.584450</td>\n",
       "      <td>Japanese, Korean</td>\n",
       "      <td>...</td>\n",
       "      <td>Botswana Pula(P)</td>\n",
       "      <td>Yes</td>\n",
       "      <td>No</td>\n",
       "      <td>No</td>\n",
       "      <td>No</td>\n",
       "      <td>4</td>\n",
       "      <td>4.8</td>\n",
       "      <td>Dark Green</td>\n",
       "      <td>Excellent</td>\n",
       "      <td>229</td>\n",
       "    </tr>\n",
       "  </tbody>\n",
       "</table>\n",
       "<p>5 rows × 21 columns</p>\n",
       "</div>"
      ],
      "text/plain": [
       "   Restaurant ID         Restaurant Name  Country Code              City  \\\n",
       "0        6317637        Le Petit Souffle           162       Makati City   \n",
       "1        6304287        Izakaya Kikufuji           162       Makati City   \n",
       "2        6300002  Heat - Edsa Shangri-La           162  Mandaluyong City   \n",
       "3        6318506                    Ooma           162  Mandaluyong City   \n",
       "4        6314302             Sambo Kojin           162  Mandaluyong City   \n",
       "\n",
       "                                             Address  \\\n",
       "0  Third Floor, Century City Mall, Kalayaan Avenu...   \n",
       "1  Little Tokyo, 2277 Chino Roces Avenue, Legaspi...   \n",
       "2  Edsa Shangri-La, 1 Garden Way, Ortigas, Mandal...   \n",
       "3  Third Floor, Mega Fashion Hall, SM Megamall, O...   \n",
       "4  Third Floor, Mega Atrium, SM Megamall, Ortigas...   \n",
       "\n",
       "                                     Locality  \\\n",
       "0   Century City Mall, Poblacion, Makati City   \n",
       "1  Little Tokyo, Legaspi Village, Makati City   \n",
       "2  Edsa Shangri-La, Ortigas, Mandaluyong City   \n",
       "3      SM Megamall, Ortigas, Mandaluyong City   \n",
       "4      SM Megamall, Ortigas, Mandaluyong City   \n",
       "\n",
       "                                    Locality Verbose   Longitude   Latitude  \\\n",
       "0  Century City Mall, Poblacion, Makati City, Mak...  121.027535  14.565443   \n",
       "1  Little Tokyo, Legaspi Village, Makati City, Ma...  121.014101  14.553708   \n",
       "2  Edsa Shangri-La, Ortigas, Mandaluyong City, Ma...  121.056831  14.581404   \n",
       "3  SM Megamall, Ortigas, Mandaluyong City, Mandal...  121.056475  14.585318   \n",
       "4  SM Megamall, Ortigas, Mandaluyong City, Mandal...  121.057508  14.584450   \n",
       "\n",
       "                           Cuisines  ...          Currency Has Table booking  \\\n",
       "0        French, Japanese, Desserts  ...  Botswana Pula(P)               Yes   \n",
       "1                          Japanese  ...  Botswana Pula(P)               Yes   \n",
       "2  Seafood, Asian, Filipino, Indian  ...  Botswana Pula(P)               Yes   \n",
       "3                   Japanese, Sushi  ...  Botswana Pula(P)                No   \n",
       "4                  Japanese, Korean  ...  Botswana Pula(P)               Yes   \n",
       "\n",
       "  Has Online delivery Is delivering now Switch to order menu Price range  \\\n",
       "0                  No                No                   No           3   \n",
       "1                  No                No                   No           3   \n",
       "2                  No                No                   No           4   \n",
       "3                  No                No                   No           4   \n",
       "4                  No                No                   No           4   \n",
       "\n",
       "   Aggregate rating  Rating color Rating text Votes  \n",
       "0               4.8    Dark Green   Excellent   314  \n",
       "1               4.5    Dark Green   Excellent   591  \n",
       "2               4.4         Green   Very Good   270  \n",
       "3               4.9    Dark Green   Excellent   365  \n",
       "4               4.8    Dark Green   Excellent   229  \n",
       "\n",
       "[5 rows x 21 columns]"
      ]
     },
     "execution_count": 3,
     "metadata": {},
     "output_type": "execute_result"
    }
   ],
   "source": [
    "df.head()"
   ]
  },
  {
   "cell_type": "code",
   "execution_count": 4,
   "id": "dea7258e",
   "metadata": {},
   "outputs": [
    {
     "data": {
      "text/plain": [
       "(9551, 21)"
      ]
     },
     "execution_count": 4,
     "metadata": {},
     "output_type": "execute_result"
    }
   ],
   "source": [
    "df.shape"
   ]
  },
  {
   "cell_type": "markdown",
   "id": "17245bc0",
   "metadata": {},
   "source": [
    "we have 9551 rows and 21 Columns "
   ]
  },
  {
   "cell_type": "markdown",
   "id": "8c903819",
   "metadata": {},
   "source": [
    "# Check Data Type\n",
    "1. Check Data Type\n",
    "2. Check Missing Values\n",
    "3. Check Numerical Values\n",
    "4. Check Catagorical Values\n",
    "5. Check Duplicates"
   ]
  },
  {
   "cell_type": "code",
   "execution_count": 5,
   "id": "79f05b5a",
   "metadata": {},
   "outputs": [
    {
     "name": "stdout",
     "output_type": "stream",
     "text": [
      "<class 'pandas.core.frame.DataFrame'>\n",
      "RangeIndex: 9551 entries, 0 to 9550\n",
      "Data columns (total 21 columns):\n",
      " #   Column                Non-Null Count  Dtype  \n",
      "---  ------                --------------  -----  \n",
      " 0   Restaurant ID         9551 non-null   int64  \n",
      " 1   Restaurant Name       9551 non-null   object \n",
      " 2   Country Code          9551 non-null   int64  \n",
      " 3   City                  9551 non-null   object \n",
      " 4   Address               9551 non-null   object \n",
      " 5   Locality              9551 non-null   object \n",
      " 6   Locality Verbose      9551 non-null   object \n",
      " 7   Longitude             9551 non-null   float64\n",
      " 8   Latitude              9551 non-null   float64\n",
      " 9   Cuisines              9542 non-null   object \n",
      " 10  Average Cost for two  9551 non-null   int64  \n",
      " 11  Currency              9551 non-null   object \n",
      " 12  Has Table booking     9551 non-null   object \n",
      " 13  Has Online delivery   9551 non-null   object \n",
      " 14  Is delivering now     9551 non-null   object \n",
      " 15  Switch to order menu  9551 non-null   object \n",
      " 16  Price range           9551 non-null   int64  \n",
      " 17  Aggregate rating      9551 non-null   float64\n",
      " 18  Rating color          9551 non-null   object \n",
      " 19  Rating text           9551 non-null   object \n",
      " 20  Votes                 9551 non-null   int64  \n",
      "dtypes: float64(3), int64(5), object(13)\n",
      "memory usage: 1.5+ MB\n"
     ]
    }
   ],
   "source": [
    "df.info()"
   ]
  },
  {
   "cell_type": "code",
   "execution_count": 6,
   "id": "485f8877",
   "metadata": {},
   "outputs": [
    {
     "data": {
      "text/plain": [
       "Restaurant ID           9551\n",
       "Restaurant Name         7446\n",
       "Country Code              15\n",
       "City                     141\n",
       "Address                 8918\n",
       "Locality                1208\n",
       "Locality Verbose        1265\n",
       "Longitude               8120\n",
       "Latitude                8677\n",
       "Cuisines                1825\n",
       "Average Cost for two     140\n",
       "Currency                  12\n",
       "Has Table booking          2\n",
       "Has Online delivery        2\n",
       "Is delivering now          2\n",
       "Switch to order menu       1\n",
       "Price range                4\n",
       "Aggregate rating          33\n",
       "Rating color               6\n",
       "Rating text                6\n",
       "Votes                   1012\n",
       "dtype: int64"
      ]
     },
     "execution_count": 6,
     "metadata": {},
     "output_type": "execute_result"
    }
   ],
   "source": [
    "df.nunique()"
   ]
  },
  {
   "cell_type": "code",
   "execution_count": 7,
   "id": "143b6730",
   "metadata": {},
   "outputs": [],
   "source": [
    "# Check Missing Values"
   ]
  },
  {
   "cell_type": "code",
   "execution_count": 8,
   "id": "11884f68",
   "metadata": {},
   "outputs": [
    {
     "data": {
      "text/plain": [
       "Restaurant ID           0\n",
       "Restaurant Name         0\n",
       "Country Code            0\n",
       "City                    0\n",
       "Address                 0\n",
       "Locality                0\n",
       "Locality Verbose        0\n",
       "Longitude               0\n",
       "Latitude                0\n",
       "Cuisines                9\n",
       "Average Cost for two    0\n",
       "Currency                0\n",
       "Has Table booking       0\n",
       "Has Online delivery     0\n",
       "Is delivering now       0\n",
       "Switch to order menu    0\n",
       "Price range             0\n",
       "Aggregate rating        0\n",
       "Rating color            0\n",
       "Rating text             0\n",
       "Votes                   0\n",
       "dtype: int64"
      ]
     },
     "execution_count": 8,
     "metadata": {},
     "output_type": "execute_result"
    }
   ],
   "source": [
    "df.isnull().sum()"
   ]
  },
  {
   "cell_type": "raw",
   "id": "fdd00e65",
   "metadata": {},
   "source": [
    "Observation\n",
    "1. We have 9 missing values in Cuisines Feature"
   ]
  },
  {
   "cell_type": "code",
   "execution_count": 9,
   "id": "c9b23e04",
   "metadata": {},
   "outputs": [
    {
     "data": {
      "text/plain": [
       "['Cuisines']"
      ]
     },
     "execution_count": 9,
     "metadata": {},
     "output_type": "execute_result"
    }
   ],
   "source": [
    "[features for features in df if df[features].isnull().sum()>0]\n",
    "# Here we are making a list of features with a null values in it."
   ]
  },
  {
   "cell_type": "code",
   "execution_count": 82,
   "id": "9bab53fc",
   "metadata": {},
   "outputs": [
    {
     "data": {
      "text/plain": [
       "<AxesSubplot:>"
      ]
     },
     "execution_count": 82,
     "metadata": {},
     "output_type": "execute_result"
    },
    {
     "data": {
      "image/png": "[encoded data removed]",
      "text/plain": [
       "<Figure size 864x432 with 2 Axes>"
      ]
     },
     "metadata": {
      "needs_background": "light"
     },
     "output_type": "display_data"
    }
   ],
   "source": [
    "sns.heatmap(df.isnull(),  yticklabels= False, cmap = 'viridis')"
   ]
  },
  {
   "cell_type": "code",
   "execution_count": 13,
   "id": "0238007c",
   "metadata": {},
   "outputs": [],
   "source": [
    "df_country = pd.read_excel(r\"C:\\Users\\Abhishek Dave\\Downloads\\5-Days-Live-EDA-and-Feature-Engineering-main\\5-Days-Live-EDA-and-Feature-Engineering-main\\Zomatodataset\\Country-Code.xlsx\")"
   ]
  },
  {
   "cell_type": "code",
   "execution_count": 14,
   "id": "607e3163",
   "metadata": {},
   "outputs": [
    {
     "data": {
      "text/html": [
       "<div>\n",
       "<style scoped>\n",
       "    .dataframe tbody tr th:only-of-type {\n",
       "        vertical-align: middle;\n",
       "    }\n",
       "\n",
       "    .dataframe tbody tr th {\n",
       "        vertical-align: top;\n",
       "    }\n",
       "\n",
       "    .dataframe thead th {\n",
       "        text-align: right;\n",
       "    }\n",
       "</style>\n",
       "<table border=\"1\" class=\"dataframe\">\n",
       "  <thead>\n",
       "    <tr style=\"text-align: right;\">\n",
       "      <th></th>\n",
       "      <th>Country Code</th>\n",
       "      <th>Country</th>\n",
       "    </tr>\n",
       "  </thead>\n",
       "  <tbody>\n",
       "    <tr>\n",
       "      <th>0</th>\n",
       "      <td>1</td>\n",
       "      <td>India</td>\n",
       "    </tr>\n",
       "    <tr>\n",
       "      <th>1</th>\n",
       "      <td>14</td>\n",
       "      <td>Australia</td>\n",
       "    </tr>\n",
       "    <tr>\n",
       "      <th>2</th>\n",
       "      <td>30</td>\n",
       "      <td>Brazil</td>\n",
       "    </tr>\n",
       "    <tr>\n",
       "      <th>3</th>\n",
       "      <td>37</td>\n",
       "      <td>Canada</td>\n",
       "    </tr>\n",
       "    <tr>\n",
       "      <th>4</th>\n",
       "      <td>94</td>\n",
       "      <td>Indonesia</td>\n",
       "    </tr>\n",
       "  </tbody>\n",
       "</table>\n",
       "</div>"
      ],
      "text/plain": [
       "   Country Code    Country\n",
       "0             1      India\n",
       "1            14  Australia\n",
       "2            30     Brazil\n",
       "3            37     Canada\n",
       "4            94  Indonesia"
      ]
     },
     "execution_count": 14,
     "metadata": {},
     "output_type": "execute_result"
    }
   ],
   "source": [
    "df_country.head()"
   ]
  },
  {
   "cell_type": "code",
   "execution_count": 26,
   "id": "25a1b6c2",
   "metadata": {},
   "outputs": [],
   "source": [
    "final_df = pd.merge(df, df_country, on = 'Country Code', how = 'left')"
   ]
  },
  {
   "cell_type": "code",
   "execution_count": 27,
   "id": "5c1b4341",
   "metadata": {},
   "outputs": [
    {
     "data": {
      "text/html": [
       "<div>\n",
       "<style scoped>\n",
       "    .dataframe tbody tr th:only-of-type {\n",
       "        vertical-align: middle;\n",
       "    }\n",
       "\n",
       "    .dataframe tbody tr th {\n",
       "        vertical-align: top;\n",
       "    }\n",
       "\n",
       "    .dataframe thead th {\n",
       "        text-align: right;\n",
       "    }\n",
       "</style>\n",
       "<table border=\"1\" class=\"dataframe\">\n",
       "  <thead>\n",
       "    <tr style=\"text-align: right;\">\n",
       "      <th></th>\n",
       "      <th>Restaurant ID</th>\n",
       "      <th>Restaurant Name</th>\n",
       "      <th>Country Code</th>\n",
       "      <th>City</th>\n",
       "      <th>Address</th>\n",
       "      <th>Locality</th>\n",
       "      <th>Locality Verbose</th>\n",
       "      <th>Longitude</th>\n",
       "      <th>Latitude</th>\n",
       "      <th>Cuisines</th>\n",
       "      <th>...</th>\n",
       "      <th>Has Table booking</th>\n",
       "      <th>Has Online delivery</th>\n",
       "      <th>Is delivering now</th>\n",
       "      <th>Switch to order menu</th>\n",
       "      <th>Price range</th>\n",
       "      <th>Aggregate rating</th>\n",
       "      <th>Rating color</th>\n",
       "      <th>Rating text</th>\n",
       "      <th>Votes</th>\n",
       "      <th>Country</th>\n",
       "    </tr>\n",
       "  </thead>\n",
       "  <tbody>\n",
       "    <tr>\n",
       "      <th>0</th>\n",
       "      <td>6317637</td>\n",
       "      <td>Le Petit Souffle</td>\n",
       "      <td>162</td>\n",
       "      <td>Makati City</td>\n",
       "      <td>Third Floor, Century City Mall, Kalayaan Avenu...</td>\n",
       "      <td>Century City Mall, Poblacion, Makati City</td>\n",
       "      <td>Century City Mall, Poblacion, Makati City, Mak...</td>\n",
       "      <td>121.027535</td>\n",
       "      <td>14.565443</td>\n",
       "      <td>French, Japanese, Desserts</td>\n",
       "      <td>...</td>\n",
       "      <td>Yes</td>\n",
       "      <td>No</td>\n",
       "      <td>No</td>\n",
       "      <td>No</td>\n",
       "      <td>3</td>\n",
       "      <td>4.8</td>\n",
       "      <td>Dark Green</td>\n",
       "      <td>Excellent</td>\n",
       "      <td>314</td>\n",
       "      <td>Phillipines</td>\n",
       "    </tr>\n",
       "    <tr>\n",
       "      <th>1</th>\n",
       "      <td>6304287</td>\n",
       "      <td>Izakaya Kikufuji</td>\n",
       "      <td>162</td>\n",
       "      <td>Makati City</td>\n",
       "      <td>Little Tokyo, 2277 Chino Roces Avenue, Legaspi...</td>\n",
       "      <td>Little Tokyo, Legaspi Village, Makati City</td>\n",
       "      <td>Little Tokyo, Legaspi Village, Makati City, Ma...</td>\n",
       "      <td>121.014101</td>\n",
       "      <td>14.553708</td>\n",
       "      <td>Japanese</td>\n",
       "      <td>...</td>\n",
       "      <td>Yes</td>\n",
       "      <td>No</td>\n",
       "      <td>No</td>\n",
       "      <td>No</td>\n",
       "      <td>3</td>\n",
       "      <td>4.5</td>\n",
       "      <td>Dark Green</td>\n",
       "      <td>Excellent</td>\n",
       "      <td>591</td>\n",
       "      <td>Phillipines</td>\n",
       "    </tr>\n",
       "    <tr>\n",
       "      <th>2</th>\n",
       "      <td>6300002</td>\n",
       "      <td>Heat - Edsa Shangri-La</td>\n",
       "      <td>162</td>\n",
       "      <td>Mandaluyong City</td>\n",
       "      <td>Edsa Shangri-La, 1 Garden Way, Ortigas, Mandal...</td>\n",
       "      <td>Edsa Shangri-La, Ortigas, Mandaluyong City</td>\n",
       "      <td>Edsa Shangri-La, Ortigas, Mandaluyong City, Ma...</td>\n",
       "      <td>121.056831</td>\n",
       "      <td>14.581404</td>\n",
       "      <td>Seafood, Asian, Filipino, Indian</td>\n",
       "      <td>...</td>\n",
       "      <td>Yes</td>\n",
       "      <td>No</td>\n",
       "      <td>No</td>\n",
       "      <td>No</td>\n",
       "      <td>4</td>\n",
       "      <td>4.4</td>\n",
       "      <td>Green</td>\n",
       "      <td>Very Good</td>\n",
       "      <td>270</td>\n",
       "      <td>Phillipines</td>\n",
       "    </tr>\n",
       "    <tr>\n",
       "      <th>3</th>\n",
       "      <td>6318506</td>\n",
       "      <td>Ooma</td>\n",
       "      <td>162</td>\n",
       "      <td>Mandaluyong City</td>\n",
       "      <td>Third Floor, Mega Fashion Hall, SM Megamall, O...</td>\n",
       "      <td>SM Megamall, Ortigas, Mandaluyong City</td>\n",
       "      <td>SM Megamall, Ortigas, Mandaluyong City, Mandal...</td>\n",
       "      <td>121.056475</td>\n",
       "      <td>14.585318</td>\n",
       "      <td>Japanese, Sushi</td>\n",
       "      <td>...</td>\n",
       "      <td>No</td>\n",
       "      <td>No</td>\n",
       "      <td>No</td>\n",
       "      <td>No</td>\n",
       "      <td>4</td>\n",
       "      <td>4.9</td>\n",
       "      <td>Dark Green</td>\n",
       "      <td>Excellent</td>\n",
       "      <td>365</td>\n",
       "      <td>Phillipines</td>\n",
       "    </tr>\n",
       "    <tr>\n",
       "      <th>4</th>\n",
       "      <td>6314302</td>\n",
       "      <td>Sambo Kojin</td>\n",
       "      <td>162</td>\n",
       "      <td>Mandaluyong City</td>\n",
       "      <td>Third Floor, Mega Atrium, SM Megamall, Ortigas...</td>\n",
       "      <td>SM Megamall, Ortigas, Mandaluyong City</td>\n",
       "      <td>SM Megamall, Ortigas, Mandaluyong City, Mandal...</td>\n",
       "      <td>121.057508</td>\n",
       "      <td>14.584450</td>\n",
       "      <td>Japanese, Korean</td>\n",
       "      <td>...</td>\n",
       "      <td>Yes</td>\n",
       "      <td>No</td>\n",
       "      <td>No</td>\n",
       "      <td>No</td>\n",
       "      <td>4</td>\n",
       "      <td>4.8</td>\n",
       "      <td>Dark Green</td>\n",
       "      <td>Excellent</td>\n",
       "      <td>229</td>\n",
       "      <td>Phillipines</td>\n",
       "    </tr>\n",
       "  </tbody>\n",
       "</table>\n",
       "<p>5 rows × 22 columns</p>\n",
       "</div>"
      ],
      "text/plain": [
       "   Restaurant ID         Restaurant Name  Country Code              City  \\\n",
       "0        6317637        Le Petit Souffle           162       Makati City   \n",
       "1        6304287        Izakaya Kikufuji           162       Makati City   \n",
       "2        6300002  Heat - Edsa Shangri-La           162  Mandaluyong City   \n",
       "3        6318506                    Ooma           162  Mandaluyong City   \n",
       "4        6314302             Sambo Kojin           162  Mandaluyong City   \n",
       "\n",
       "                                             Address  \\\n",
       "0  Third Floor, Century City Mall, Kalayaan Avenu...   \n",
       "1  Little Tokyo, 2277 Chino Roces Avenue, Legaspi...   \n",
       "2  Edsa Shangri-La, 1 Garden Way, Ortigas, Mandal...   \n",
       "3  Third Floor, Mega Fashion Hall, SM Megamall, O...   \n",
       "4  Third Floor, Mega Atrium, SM Megamall, Ortigas...   \n",
       "\n",
       "                                     Locality  \\\n",
       "0   Century City Mall, Poblacion, Makati City   \n",
       "1  Little Tokyo, Legaspi Village, Makati City   \n",
       "2  Edsa Shangri-La, Ortigas, Mandaluyong City   \n",
       "3      SM Megamall, Ortigas, Mandaluyong City   \n",
       "4      SM Megamall, Ortigas, Mandaluyong City   \n",
       "\n",
       "                                    Locality Verbose   Longitude   Latitude  \\\n",
       "0  Century City Mall, Poblacion, Makati City, Mak...  121.027535  14.565443   \n",
       "1  Little Tokyo, Legaspi Village, Makati City, Ma...  121.014101  14.553708   \n",
       "2  Edsa Shangri-La, Ortigas, Mandaluyong City, Ma...  121.056831  14.581404   \n",
       "3  SM Megamall, Ortigas, Mandaluyong City, Mandal...  121.056475  14.585318   \n",
       "4  SM Megamall, Ortigas, Mandaluyong City, Mandal...  121.057508  14.584450   \n",
       "\n",
       "                           Cuisines  ...  Has Table booking  \\\n",
       "0        French, Japanese, Desserts  ...                Yes   \n",
       "1                          Japanese  ...                Yes   \n",
       "2  Seafood, Asian, Filipino, Indian  ...                Yes   \n",
       "3                   Japanese, Sushi  ...                 No   \n",
       "4                  Japanese, Korean  ...                Yes   \n",
       "\n",
       "  Has Online delivery Is delivering now Switch to order menu Price range  \\\n",
       "0                  No                No                   No           3   \n",
       "1                  No                No                   No           3   \n",
       "2                  No                No                   No           4   \n",
       "3                  No                No                   No           4   \n",
       "4                  No                No                   No           4   \n",
       "\n",
       "  Aggregate rating  Rating color  Rating text Votes      Country  \n",
       "0              4.8    Dark Green    Excellent   314  Phillipines  \n",
       "1              4.5    Dark Green    Excellent   591  Phillipines  \n",
       "2              4.4         Green    Very Good   270  Phillipines  \n",
       "3              4.9    Dark Green    Excellent   365  Phillipines  \n",
       "4              4.8    Dark Green    Excellent   229  Phillipines  \n",
       "\n",
       "[5 rows x 22 columns]"
      ]
     },
     "execution_count": 27,
     "metadata": {},
     "output_type": "execute_result"
    }
   ],
   "source": [
    "final_df.head()"
   ]
  },
  {
   "cell_type": "code",
   "execution_count": 29,
   "id": "ce38fb19",
   "metadata": {},
   "outputs": [
    {
     "data": {
      "text/plain": [
       "Restaurant ID             int64\n",
       "Restaurant Name          object\n",
       "Country Code              int64\n",
       "City                     object\n",
       "Address                  object\n",
       "Locality                 object\n",
       "Locality Verbose         object\n",
       "Longitude               float64\n",
       "Latitude                float64\n",
       "Cuisines                 object\n",
       "Average Cost for two      int64\n",
       "Currency                 object\n",
       "Has Table booking        object\n",
       "Has Online delivery      object\n",
       "Is delivering now        object\n",
       "Switch to order menu     object\n",
       "Price range               int64\n",
       "Aggregate rating        float64\n",
       "Rating color             object\n",
       "Rating text              object\n",
       "Votes                     int64\n",
       "Country                  object\n",
       "dtype: object"
      ]
     },
     "execution_count": 29,
     "metadata": {},
     "output_type": "execute_result"
    }
   ],
   "source": [
    "# Check again datatype\n",
    "final_df.dtypes"
   ]
  },
  {
   "cell_type": "code",
   "execution_count": 31,
   "id": "c0d78f38",
   "metadata": {},
   "outputs": [
    {
     "data": {
      "text/plain": [
       "Index(['Restaurant ID', 'Restaurant Name', 'Country Code', 'City', 'Address',\n",
       "       'Locality', 'Locality Verbose', 'Longitude', 'Latitude', 'Cuisines',\n",
       "       'Average Cost for two', 'Currency', 'Has Table booking',\n",
       "       'Has Online delivery', 'Is delivering now', 'Switch to order menu',\n",
       "       'Price range', 'Aggregate rating', 'Rating color', 'Rating text',\n",
       "       'Votes', 'Country'],\n",
       "      dtype='object')"
      ]
     },
     "execution_count": 31,
     "metadata": {},
     "output_type": "execute_result"
    }
   ],
   "source": [
    "final_df.columns"
   ]
  },
  {
   "cell_type": "code",
   "execution_count": 33,
   "id": "626cc7d5",
   "metadata": {},
   "outputs": [
    {
     "data": {
      "text/plain": [
       "India             8652\n",
       "United States      434\n",
       "United Kingdom      80\n",
       "Brazil              60\n",
       "UAE                 60\n",
       "South Africa        60\n",
       "New Zealand         40\n",
       "Turkey              34\n",
       "Australia           24\n",
       "Phillipines         22\n",
       "Indonesia           21\n",
       "Singapore           20\n",
       "Qatar               20\n",
       "Sri Lanka           20\n",
       "Canada               4\n",
       "Name: Country, dtype: int64"
      ]
     },
     "execution_count": 33,
     "metadata": {},
     "output_type": "execute_result"
    }
   ],
   "source": [
    "# Lets check how many different countries are there\n",
    "final_df['Country'].value_counts()"
   ]
  },
  {
   "cell_type": "markdown",
   "id": "c5365d8e",
   "metadata": {},
   "source": [
    "# Observation\n",
    "Zomato has more working in Indian and has more transactions in India."
   ]
  },
  {
   "cell_type": "code",
   "execution_count": 60,
   "id": "1d6904e7",
   "metadata": {},
   "outputs": [],
   "source": [
    "country_names = final_df['Country'].value_counts().index"
   ]
  },
  {
   "cell_type": "code",
   "execution_count": 44,
   "id": "969bd14d",
   "metadata": {},
   "outputs": [
    {
     "data": {
      "text/plain": [
       "15"
      ]
     },
     "execution_count": 44,
     "metadata": {},
     "output_type": "execute_result"
    }
   ],
   "source": [
    "(country_names)"
   ]
  },
  {
   "cell_type": "code",
   "execution_count": 38,
   "id": "d4e9fe32",
   "metadata": {},
   "outputs": [],
   "source": [
    "country_val = final_df['Country'].value_counts().values"
   ]
  },
  {
   "cell_type": "code",
   "execution_count": 39,
   "id": "43f407b3",
   "metadata": {},
   "outputs": [
    {
     "data": {
      "text/plain": [
       "array([8652,  434,   80,   60,   60,   60,   40,   34,   24,   22,   21,\n",
       "         20,   20,   20,    4], dtype=int64)"
      ]
     },
     "execution_count": 39,
     "metadata": {},
     "output_type": "execute_result"
    }
   ],
   "source": [
    "country_val"
   ]
  },
  {
   "cell_type": "code",
   "execution_count": 40,
   "id": "bda50129",
   "metadata": {},
   "outputs": [
    {
     "data": {
      "text/plain": [
       "([<matplotlib.patches.Wedge at 0x2b49f145640>,\n",
       "  <matplotlib.patches.Wedge at 0x2b49f145ca0>,\n",
       "  <matplotlib.patches.Wedge at 0x2b49f148730>,\n",
       "  <matplotlib.patches.Wedge at 0x2b49f148df0>,\n",
       "  <matplotlib.patches.Wedge at 0x2b49f147190>,\n",
       "  <matplotlib.patches.Wedge at 0x2b49f1476d0>,\n",
       "  <matplotlib.patches.Wedge at 0x2b49f1504c0>,\n",
       "  <matplotlib.patches.Wedge at 0x2b49f150d60>,\n",
       "  <matplotlib.patches.Wedge at 0x2b49f1355e0>,\n",
       "  <matplotlib.patches.Wedge at 0x2b49f1356d0>,\n",
       "  <matplotlib.patches.Wedge at 0x2b49f145550>,\n",
       "  <matplotlib.patches.Wedge at 0x2b49f153850>,\n",
       "  <matplotlib.patches.Wedge at 0x2b49f153eb0>,\n",
       "  <matplotlib.patches.Wedge at 0x2b49f121fd0>,\n",
       "  <matplotlib.patches.Wedge at 0x2b49f1352e0>],\n",
       " [Text(-1.052256163793291, 0.3205572737577906, 'India'),\n",
       "  Text(0.9911329812843455, -0.477132490415823, 'United States'),\n",
       "  Text(1.0572858296119743, -0.3035567072257165, 'United Kingdom'),\n",
       "  Text(1.070138816916019, -0.2545641619112621, 'Brazil'),\n",
       "  Text(1.0793506814479759, -0.21213699926648824, 'UAE'),\n",
       "  Text(1.086881147244973, -0.16937937230799818, 'South Africa'),\n",
       "  Text(1.0918635911832035, -0.1335436192729486, 'New Zealand'),\n",
       "  Text(1.0947903814016446, -0.10692998078388304, 'Turkey'),\n",
       "  Text(1.096631023945382, -0.08602556201794338, 'Australia'),\n",
       "  Text(1.0978070729776455, -0.06942355882735218, 'Phillipines'),\n",
       "  Text(1.0986791544015209, -0.05388984768543213, 'Indonesia'),\n",
       "  Text(1.0993059848742366, -0.039068550263413035, 'Singapore'),\n",
       "  Text(1.0997248508282123, -0.02460187941736628, 'Qatar'),\n",
       "  Text(1.0999533462179636, -0.010130949802716446, 'Sri Lanka'),\n",
       "  Text(1.0999990477553414, -0.0014473898376707638, 'Canada')])"
      ]
     },
     "execution_count": 40,
     "metadata": {},
     "output_type": "execute_result"
    },
    {
     "data": {
      "image/png": "[encoded data removed]",
      "text/plain": [
       "<Figure size 432x288 with 1 Axes>"
      ]
     },
     "metadata": {},
     "output_type": "display_data"
    }
   ],
   "source": [
    "# Lets Plot a Graph\n",
    "plt.pie(x = country_val, labels= country_names)"
   ]
  },
  {
   "cell_type": "code",
   "execution_count": 58,
   "id": "88a72977",
   "metadata": {},
   "outputs": [
    {
     "data": {
      "text/plain": [
       "([<matplotlib.patches.Wedge at 0x2b4a185a190>,\n",
       "  <matplotlib.patches.Wedge at 0x2b4a185a8b0>,\n",
       "  <matplotlib.patches.Wedge at 0x2b4a185afd0>],\n",
       " [Text(-1.0829742700952103, 0.19278674827836725, 'India'),\n",
       "  Text(1.077281715838356, -0.22240527134123297, 'United States'),\n",
       "  Text(1.0995865153823035, -0.03015783794312073, 'United Kingdom')],\n",
       " [Text(-0.590713238233751, 0.10515640815183668, '94.39%'),\n",
       "  Text(0.5876082086391032, -0.12131196618612707, '4.73%'),\n",
       "  Text(0.5997744629358018, -0.01644972978715676, '0.87%')])"
      ]
     },
     "execution_count": 58,
     "metadata": {},
     "output_type": "execute_result"
    },
    {
     "data": {
      "image/png": "[encoded data removed]",
      "text/plain": [
       "<Figure size 432x288 with 1 Axes>"
      ]
     },
     "metadata": {},
     "output_type": "display_data"
    }
   ],
   "source": [
    "# Top 3 country that used Zomato\n",
    "plt.pie(x = country_val[:3], labels= country_names[:3], autopct=\"%1.2f%%\")"
   ]
  },
  {
   "cell_type": "markdown",
   "id": "74de2a6c",
   "metadata": {},
   "source": [
    "# Observation\n",
    "Zomato Maximum transaction is from india and then form US and Uk"
   ]
  },
  {
   "cell_type": "code",
   "execution_count": 61,
   "id": "c48772e5",
   "metadata": {},
   "outputs": [
    {
     "data": {
      "text/plain": [
       "Index(['Restaurant ID', 'Restaurant Name', 'Country Code', 'City', 'Address',\n",
       "       'Locality', 'Locality Verbose', 'Longitude', 'Latitude', 'Cuisines',\n",
       "       'Average Cost for two', 'Currency', 'Has Table booking',\n",
       "       'Has Online delivery', 'Is delivering now', 'Switch to order menu',\n",
       "       'Price range', 'Aggregate rating', 'Rating color', 'Rating text',\n",
       "       'Votes', 'Country'],\n",
       "      dtype='object')"
      ]
     },
     "execution_count": 61,
     "metadata": {},
     "output_type": "execute_result"
    }
   ],
   "source": [
    "final_df.columns"
   ]
  },
  {
   "cell_type": "code",
   "execution_count": 66,
   "id": "353ff49e",
   "metadata": {},
   "outputs": [
    {
     "data": {
      "text/html": [
       "<div>\n",
       "<style scoped>\n",
       "    .dataframe tbody tr th:only-of-type {\n",
       "        vertical-align: middle;\n",
       "    }\n",
       "\n",
       "    .dataframe tbody tr th {\n",
       "        vertical-align: top;\n",
       "    }\n",
       "\n",
       "    .dataframe thead th {\n",
       "        text-align: right;\n",
       "    }\n",
       "</style>\n",
       "<table border=\"1\" class=\"dataframe\">\n",
       "  <thead>\n",
       "    <tr style=\"text-align: right;\">\n",
       "      <th></th>\n",
       "      <th>Aggregate rating</th>\n",
       "      <th>Rating color</th>\n",
       "      <th>Rating text</th>\n",
       "      <th>0</th>\n",
       "    </tr>\n",
       "  </thead>\n",
       "  <tbody>\n",
       "    <tr>\n",
       "      <th>0</th>\n",
       "      <td>0.0</td>\n",
       "      <td>White</td>\n",
       "      <td>Not rated</td>\n",
       "      <td>2148</td>\n",
       "    </tr>\n",
       "    <tr>\n",
       "      <th>1</th>\n",
       "      <td>1.8</td>\n",
       "      <td>Red</td>\n",
       "      <td>Poor</td>\n",
       "      <td>1</td>\n",
       "    </tr>\n",
       "    <tr>\n",
       "      <th>2</th>\n",
       "      <td>1.9</td>\n",
       "      <td>Red</td>\n",
       "      <td>Poor</td>\n",
       "      <td>2</td>\n",
       "    </tr>\n",
       "    <tr>\n",
       "      <th>3</th>\n",
       "      <td>2.0</td>\n",
       "      <td>Red</td>\n",
       "      <td>Poor</td>\n",
       "      <td>7</td>\n",
       "    </tr>\n",
       "    <tr>\n",
       "      <th>4</th>\n",
       "      <td>2.1</td>\n",
       "      <td>Red</td>\n",
       "      <td>Poor</td>\n",
       "      <td>15</td>\n",
       "    </tr>\n",
       "    <tr>\n",
       "      <th>5</th>\n",
       "      <td>2.2</td>\n",
       "      <td>Red</td>\n",
       "      <td>Poor</td>\n",
       "      <td>27</td>\n",
       "    </tr>\n",
       "    <tr>\n",
       "      <th>6</th>\n",
       "      <td>2.3</td>\n",
       "      <td>Red</td>\n",
       "      <td>Poor</td>\n",
       "      <td>47</td>\n",
       "    </tr>\n",
       "    <tr>\n",
       "      <th>7</th>\n",
       "      <td>2.4</td>\n",
       "      <td>Red</td>\n",
       "      <td>Poor</td>\n",
       "      <td>87</td>\n",
       "    </tr>\n",
       "    <tr>\n",
       "      <th>8</th>\n",
       "      <td>2.5</td>\n",
       "      <td>Orange</td>\n",
       "      <td>Average</td>\n",
       "      <td>110</td>\n",
       "    </tr>\n",
       "    <tr>\n",
       "      <th>9</th>\n",
       "      <td>2.6</td>\n",
       "      <td>Orange</td>\n",
       "      <td>Average</td>\n",
       "      <td>191</td>\n",
       "    </tr>\n",
       "    <tr>\n",
       "      <th>10</th>\n",
       "      <td>2.7</td>\n",
       "      <td>Orange</td>\n",
       "      <td>Average</td>\n",
       "      <td>250</td>\n",
       "    </tr>\n",
       "    <tr>\n",
       "      <th>11</th>\n",
       "      <td>2.8</td>\n",
       "      <td>Orange</td>\n",
       "      <td>Average</td>\n",
       "      <td>315</td>\n",
       "    </tr>\n",
       "    <tr>\n",
       "      <th>12</th>\n",
       "      <td>2.9</td>\n",
       "      <td>Orange</td>\n",
       "      <td>Average</td>\n",
       "      <td>381</td>\n",
       "    </tr>\n",
       "    <tr>\n",
       "      <th>13</th>\n",
       "      <td>3.0</td>\n",
       "      <td>Orange</td>\n",
       "      <td>Average</td>\n",
       "      <td>468</td>\n",
       "    </tr>\n",
       "    <tr>\n",
       "      <th>14</th>\n",
       "      <td>3.1</td>\n",
       "      <td>Orange</td>\n",
       "      <td>Average</td>\n",
       "      <td>519</td>\n",
       "    </tr>\n",
       "    <tr>\n",
       "      <th>15</th>\n",
       "      <td>3.2</td>\n",
       "      <td>Orange</td>\n",
       "      <td>Average</td>\n",
       "      <td>522</td>\n",
       "    </tr>\n",
       "    <tr>\n",
       "      <th>16</th>\n",
       "      <td>3.3</td>\n",
       "      <td>Orange</td>\n",
       "      <td>Average</td>\n",
       "      <td>483</td>\n",
       "    </tr>\n",
       "    <tr>\n",
       "      <th>17</th>\n",
       "      <td>3.4</td>\n",
       "      <td>Orange</td>\n",
       "      <td>Average</td>\n",
       "      <td>498</td>\n",
       "    </tr>\n",
       "    <tr>\n",
       "      <th>18</th>\n",
       "      <td>3.5</td>\n",
       "      <td>Yellow</td>\n",
       "      <td>Good</td>\n",
       "      <td>480</td>\n",
       "    </tr>\n",
       "    <tr>\n",
       "      <th>19</th>\n",
       "      <td>3.6</td>\n",
       "      <td>Yellow</td>\n",
       "      <td>Good</td>\n",
       "      <td>458</td>\n",
       "    </tr>\n",
       "    <tr>\n",
       "      <th>20</th>\n",
       "      <td>3.7</td>\n",
       "      <td>Yellow</td>\n",
       "      <td>Good</td>\n",
       "      <td>427</td>\n",
       "    </tr>\n",
       "    <tr>\n",
       "      <th>21</th>\n",
       "      <td>3.8</td>\n",
       "      <td>Yellow</td>\n",
       "      <td>Good</td>\n",
       "      <td>400</td>\n",
       "    </tr>\n",
       "    <tr>\n",
       "      <th>22</th>\n",
       "      <td>3.9</td>\n",
       "      <td>Yellow</td>\n",
       "      <td>Good</td>\n",
       "      <td>335</td>\n",
       "    </tr>\n",
       "    <tr>\n",
       "      <th>23</th>\n",
       "      <td>4.0</td>\n",
       "      <td>Green</td>\n",
       "      <td>Very Good</td>\n",
       "      <td>266</td>\n",
       "    </tr>\n",
       "    <tr>\n",
       "      <th>24</th>\n",
       "      <td>4.1</td>\n",
       "      <td>Green</td>\n",
       "      <td>Very Good</td>\n",
       "      <td>274</td>\n",
       "    </tr>\n",
       "    <tr>\n",
       "      <th>25</th>\n",
       "      <td>4.2</td>\n",
       "      <td>Green</td>\n",
       "      <td>Very Good</td>\n",
       "      <td>221</td>\n",
       "    </tr>\n",
       "    <tr>\n",
       "      <th>26</th>\n",
       "      <td>4.3</td>\n",
       "      <td>Green</td>\n",
       "      <td>Very Good</td>\n",
       "      <td>174</td>\n",
       "    </tr>\n",
       "    <tr>\n",
       "      <th>27</th>\n",
       "      <td>4.4</td>\n",
       "      <td>Green</td>\n",
       "      <td>Very Good</td>\n",
       "      <td>144</td>\n",
       "    </tr>\n",
       "    <tr>\n",
       "      <th>28</th>\n",
       "      <td>4.5</td>\n",
       "      <td>Dark Green</td>\n",
       "      <td>Excellent</td>\n",
       "      <td>95</td>\n",
       "    </tr>\n",
       "    <tr>\n",
       "      <th>29</th>\n",
       "      <td>4.6</td>\n",
       "      <td>Dark Green</td>\n",
       "      <td>Excellent</td>\n",
       "      <td>78</td>\n",
       "    </tr>\n",
       "    <tr>\n",
       "      <th>30</th>\n",
       "      <td>4.7</td>\n",
       "      <td>Dark Green</td>\n",
       "      <td>Excellent</td>\n",
       "      <td>42</td>\n",
       "    </tr>\n",
       "    <tr>\n",
       "      <th>31</th>\n",
       "      <td>4.8</td>\n",
       "      <td>Dark Green</td>\n",
       "      <td>Excellent</td>\n",
       "      <td>25</td>\n",
       "    </tr>\n",
       "    <tr>\n",
       "      <th>32</th>\n",
       "      <td>4.9</td>\n",
       "      <td>Dark Green</td>\n",
       "      <td>Excellent</td>\n",
       "      <td>61</td>\n",
       "    </tr>\n",
       "  </tbody>\n",
       "</table>\n",
       "</div>"
      ],
      "text/plain": [
       "    Aggregate rating Rating color Rating text     0\n",
       "0                0.0        White   Not rated  2148\n",
       "1                1.8          Red        Poor     1\n",
       "2                1.9          Red        Poor     2\n",
       "3                2.0          Red        Poor     7\n",
       "4                2.1          Red        Poor    15\n",
       "5                2.2          Red        Poor    27\n",
       "6                2.3          Red        Poor    47\n",
       "7                2.4          Red        Poor    87\n",
       "8                2.5       Orange     Average   110\n",
       "9                2.6       Orange     Average   191\n",
       "10               2.7       Orange     Average   250\n",
       "11               2.8       Orange     Average   315\n",
       "12               2.9       Orange     Average   381\n",
       "13               3.0       Orange     Average   468\n",
       "14               3.1       Orange     Average   519\n",
       "15               3.2       Orange     Average   522\n",
       "16               3.3       Orange     Average   483\n",
       "17               3.4       Orange     Average   498\n",
       "18               3.5       Yellow        Good   480\n",
       "19               3.6       Yellow        Good   458\n",
       "20               3.7       Yellow        Good   427\n",
       "21               3.8       Yellow        Good   400\n",
       "22               3.9       Yellow        Good   335\n",
       "23               4.0        Green   Very Good   266\n",
       "24               4.1        Green   Very Good   274\n",
       "25               4.2        Green   Very Good   221\n",
       "26               4.3        Green   Very Good   174\n",
       "27               4.4        Green   Very Good   144\n",
       "28               4.5   Dark Green   Excellent    95\n",
       "29               4.6   Dark Green   Excellent    78\n",
       "30               4.7   Dark Green   Excellent    42\n",
       "31               4.8   Dark Green   Excellent    25\n",
       "32               4.9   Dark Green   Excellent    61"
      ]
     },
     "execution_count": 66,
     "metadata": {},
     "output_type": "execute_result"
    }
   ],
   "source": [
    "final_df.groupby(['Aggregate rating','Rating color', 'Rating text']).size().reset_index()"
   ]
  },
  {
   "cell_type": "code",
   "execution_count": 69,
   "id": "56a53ae5",
   "metadata": {},
   "outputs": [],
   "source": [
    "ratings = final_df.groupby(['Aggregate rating','Rating color', 'Rating text']).size().reset_index().rename(columns = {0:'Rating Count'})"
   ]
  },
  {
   "cell_type": "code",
   "execution_count": 71,
   "id": "200be20d",
   "metadata": {},
   "outputs": [
    {
     "data": {
      "text/html": [
       "<div>\n",
       "<style scoped>\n",
       "    .dataframe tbody tr th:only-of-type {\n",
       "        vertical-align: middle;\n",
       "    }\n",
       "\n",
       "    .dataframe tbody tr th {\n",
       "        vertical-align: top;\n",
       "    }\n",
       "\n",
       "    .dataframe thead th {\n",
       "        text-align: right;\n",
       "    }\n",
       "</style>\n",
       "<table border=\"1\" class=\"dataframe\">\n",
       "  <thead>\n",
       "    <tr style=\"text-align: right;\">\n",
       "      <th></th>\n",
       "      <th>Aggregate rating</th>\n",
       "      <th>Rating color</th>\n",
       "      <th>Rating text</th>\n",
       "      <th>Rating Count</th>\n",
       "    </tr>\n",
       "  </thead>\n",
       "  <tbody>\n",
       "    <tr>\n",
       "      <th>0</th>\n",
       "      <td>0.0</td>\n",
       "      <td>White</td>\n",
       "      <td>Not rated</td>\n",
       "      <td>2148</td>\n",
       "    </tr>\n",
       "    <tr>\n",
       "      <th>1</th>\n",
       "      <td>1.8</td>\n",
       "      <td>Red</td>\n",
       "      <td>Poor</td>\n",
       "      <td>1</td>\n",
       "    </tr>\n",
       "    <tr>\n",
       "      <th>2</th>\n",
       "      <td>1.9</td>\n",
       "      <td>Red</td>\n",
       "      <td>Poor</td>\n",
       "      <td>2</td>\n",
       "    </tr>\n",
       "    <tr>\n",
       "      <th>3</th>\n",
       "      <td>2.0</td>\n",
       "      <td>Red</td>\n",
       "      <td>Poor</td>\n",
       "      <td>7</td>\n",
       "    </tr>\n",
       "    <tr>\n",
       "      <th>4</th>\n",
       "      <td>2.1</td>\n",
       "      <td>Red</td>\n",
       "      <td>Poor</td>\n",
       "      <td>15</td>\n",
       "    </tr>\n",
       "    <tr>\n",
       "      <th>5</th>\n",
       "      <td>2.2</td>\n",
       "      <td>Red</td>\n",
       "      <td>Poor</td>\n",
       "      <td>27</td>\n",
       "    </tr>\n",
       "    <tr>\n",
       "      <th>6</th>\n",
       "      <td>2.3</td>\n",
       "      <td>Red</td>\n",
       "      <td>Poor</td>\n",
       "      <td>47</td>\n",
       "    </tr>\n",
       "    <tr>\n",
       "      <th>7</th>\n",
       "      <td>2.4</td>\n",
       "      <td>Red</td>\n",
       "      <td>Poor</td>\n",
       "      <td>87</td>\n",
       "    </tr>\n",
       "    <tr>\n",
       "      <th>8</th>\n",
       "      <td>2.5</td>\n",
       "      <td>Orange</td>\n",
       "      <td>Average</td>\n",
       "      <td>110</td>\n",
       "    </tr>\n",
       "    <tr>\n",
       "      <th>9</th>\n",
       "      <td>2.6</td>\n",
       "      <td>Orange</td>\n",
       "      <td>Average</td>\n",
       "      <td>191</td>\n",
       "    </tr>\n",
       "    <tr>\n",
       "      <th>10</th>\n",
       "      <td>2.7</td>\n",
       "      <td>Orange</td>\n",
       "      <td>Average</td>\n",
       "      <td>250</td>\n",
       "    </tr>\n",
       "    <tr>\n",
       "      <th>11</th>\n",
       "      <td>2.8</td>\n",
       "      <td>Orange</td>\n",
       "      <td>Average</td>\n",
       "      <td>315</td>\n",
       "    </tr>\n",
       "    <tr>\n",
       "      <th>12</th>\n",
       "      <td>2.9</td>\n",
       "      <td>Orange</td>\n",
       "      <td>Average</td>\n",
       "      <td>381</td>\n",
       "    </tr>\n",
       "    <tr>\n",
       "      <th>13</th>\n",
       "      <td>3.0</td>\n",
       "      <td>Orange</td>\n",
       "      <td>Average</td>\n",
       "      <td>468</td>\n",
       "    </tr>\n",
       "    <tr>\n",
       "      <th>14</th>\n",
       "      <td>3.1</td>\n",
       "      <td>Orange</td>\n",
       "      <td>Average</td>\n",
       "      <td>519</td>\n",
       "    </tr>\n",
       "    <tr>\n",
       "      <th>15</th>\n",
       "      <td>3.2</td>\n",
       "      <td>Orange</td>\n",
       "      <td>Average</td>\n",
       "      <td>522</td>\n",
       "    </tr>\n",
       "    <tr>\n",
       "      <th>16</th>\n",
       "      <td>3.3</td>\n",
       "      <td>Orange</td>\n",
       "      <td>Average</td>\n",
       "      <td>483</td>\n",
       "    </tr>\n",
       "    <tr>\n",
       "      <th>17</th>\n",
       "      <td>3.4</td>\n",
       "      <td>Orange</td>\n",
       "      <td>Average</td>\n",
       "      <td>498</td>\n",
       "    </tr>\n",
       "    <tr>\n",
       "      <th>18</th>\n",
       "      <td>3.5</td>\n",
       "      <td>Yellow</td>\n",
       "      <td>Good</td>\n",
       "      <td>480</td>\n",
       "    </tr>\n",
       "    <tr>\n",
       "      <th>19</th>\n",
       "      <td>3.6</td>\n",
       "      <td>Yellow</td>\n",
       "      <td>Good</td>\n",
       "      <td>458</td>\n",
       "    </tr>\n",
       "    <tr>\n",
       "      <th>20</th>\n",
       "      <td>3.7</td>\n",
       "      <td>Yellow</td>\n",
       "      <td>Good</td>\n",
       "      <td>427</td>\n",
       "    </tr>\n",
       "    <tr>\n",
       "      <th>21</th>\n",
       "      <td>3.8</td>\n",
       "      <td>Yellow</td>\n",
       "      <td>Good</td>\n",
       "      <td>400</td>\n",
       "    </tr>\n",
       "    <tr>\n",
       "      <th>22</th>\n",
       "      <td>3.9</td>\n",
       "      <td>Yellow</td>\n",
       "      <td>Good</td>\n",
       "      <td>335</td>\n",
       "    </tr>\n",
       "    <tr>\n",
       "      <th>23</th>\n",
       "      <td>4.0</td>\n",
       "      <td>Green</td>\n",
       "      <td>Very Good</td>\n",
       "      <td>266</td>\n",
       "    </tr>\n",
       "    <tr>\n",
       "      <th>24</th>\n",
       "      <td>4.1</td>\n",
       "      <td>Green</td>\n",
       "      <td>Very Good</td>\n",
       "      <td>274</td>\n",
       "    </tr>\n",
       "    <tr>\n",
       "      <th>25</th>\n",
       "      <td>4.2</td>\n",
       "      <td>Green</td>\n",
       "      <td>Very Good</td>\n",
       "      <td>221</td>\n",
       "    </tr>\n",
       "    <tr>\n",
       "      <th>26</th>\n",
       "      <td>4.3</td>\n",
       "      <td>Green</td>\n",
       "      <td>Very Good</td>\n",
       "      <td>174</td>\n",
       "    </tr>\n",
       "    <tr>\n",
       "      <th>27</th>\n",
       "      <td>4.4</td>\n",
       "      <td>Green</td>\n",
       "      <td>Very Good</td>\n",
       "      <td>144</td>\n",
       "    </tr>\n",
       "    <tr>\n",
       "      <th>28</th>\n",
       "      <td>4.5</td>\n",
       "      <td>Dark Green</td>\n",
       "      <td>Excellent</td>\n",
       "      <td>95</td>\n",
       "    </tr>\n",
       "    <tr>\n",
       "      <th>29</th>\n",
       "      <td>4.6</td>\n",
       "      <td>Dark Green</td>\n",
       "      <td>Excellent</td>\n",
       "      <td>78</td>\n",
       "    </tr>\n",
       "    <tr>\n",
       "      <th>30</th>\n",
       "      <td>4.7</td>\n",
       "      <td>Dark Green</td>\n",
       "      <td>Excellent</td>\n",
       "      <td>42</td>\n",
       "    </tr>\n",
       "    <tr>\n",
       "      <th>31</th>\n",
       "      <td>4.8</td>\n",
       "      <td>Dark Green</td>\n",
       "      <td>Excellent</td>\n",
       "      <td>25</td>\n",
       "    </tr>\n",
       "    <tr>\n",
       "      <th>32</th>\n",
       "      <td>4.9</td>\n",
       "      <td>Dark Green</td>\n",
       "      <td>Excellent</td>\n",
       "      <td>61</td>\n",
       "    </tr>\n",
       "  </tbody>\n",
       "</table>\n",
       "</div>"
      ],
      "text/plain": [
       "    Aggregate rating Rating color Rating text  Rating Count\n",
       "0                0.0        White   Not rated          2148\n",
       "1                1.8          Red        Poor             1\n",
       "2                1.9          Red        Poor             2\n",
       "3                2.0          Red        Poor             7\n",
       "4                2.1          Red        Poor            15\n",
       "5                2.2          Red        Poor            27\n",
       "6                2.3          Red        Poor            47\n",
       "7                2.4          Red        Poor            87\n",
       "8                2.5       Orange     Average           110\n",
       "9                2.6       Orange     Average           191\n",
       "10               2.7       Orange     Average           250\n",
       "11               2.8       Orange     Average           315\n",
       "12               2.9       Orange     Average           381\n",
       "13               3.0       Orange     Average           468\n",
       "14               3.1       Orange     Average           519\n",
       "15               3.2       Orange     Average           522\n",
       "16               3.3       Orange     Average           483\n",
       "17               3.4       Orange     Average           498\n",
       "18               3.5       Yellow        Good           480\n",
       "19               3.6       Yellow        Good           458\n",
       "20               3.7       Yellow        Good           427\n",
       "21               3.8       Yellow        Good           400\n",
       "22               3.9       Yellow        Good           335\n",
       "23               4.0        Green   Very Good           266\n",
       "24               4.1        Green   Very Good           274\n",
       "25               4.2        Green   Very Good           221\n",
       "26               4.3        Green   Very Good           174\n",
       "27               4.4        Green   Very Good           144\n",
       "28               4.5   Dark Green   Excellent            95\n",
       "29               4.6   Dark Green   Excellent            78\n",
       "30               4.7   Dark Green   Excellent            42\n",
       "31               4.8   Dark Green   Excellent            25\n",
       "32               4.9   Dark Green   Excellent            61"
      ]
     },
     "execution_count": 71,
     "metadata": {},
     "output_type": "execute_result"
    }
   ],
   "source": [
    "ratings"
   ]
  },
  {
   "cell_type": "raw",
   "id": "6cae758e",
   "metadata": {},
   "source": [
    "# Observation\n",
    "1. When rating is btwn 4.5 to 4.9 it is Excellent\n",
    "2. When rating is btwn 4.0 to 4.4 it is Very Good\n",
    "3. When rating is btwn 3.5 to 3.9 it is Good\n",
    "4. When rating is btwn 2.5 to 3.4 it is Average\n",
    "5. When rating is btwn 2.0 to 2.4 it is Excellent"
   ]
  },
  {
   "cell_type": "code",
   "execution_count": 78,
   "id": "32fc15ea",
   "metadata": {},
   "outputs": [],
   "source": [
    "# this code will make your graph spread to look clear. \n",
    "matplotlib.rcParams['figure.figsize'] = (12,6)\n"
   ]
  },
  {
   "cell_type": "code",
   "execution_count": 79,
   "id": "ac185b45",
   "metadata": {},
   "outputs": [
    {
     "data": {
      "text/plain": [
       "<AxesSubplot:xlabel='Aggregate rating', ylabel='Rating Count'>"
      ]
     },
     "execution_count": 79,
     "metadata": {},
     "output_type": "execute_result"
    },
    {
     "data": {
      "image/png": "[encoded data removed]",
      "text/plain": [
       "<Figure size 864x432 with 1 Axes>"
      ]
     },
     "metadata": {
      "needs_background": "light"
     },
     "output_type": "display_data"
    }
   ],
   "source": [
    "sns.barplot(data = ratings, x ='Aggregate rating' , y ='Rating Count' )"
   ]
  },
  {
   "cell_type": "code",
   "execution_count": 83,
   "id": "8c831747",
   "metadata": {},
   "outputs": [
    {
     "data": {
      "text/plain": [
       "<AxesSubplot:xlabel='Aggregate rating', ylabel='Rating Count'>"
      ]
     },
     "execution_count": 83,
     "metadata": {},
     "output_type": "execute_result"
    },
    {
     "data": {
      "image/png": "[encoded data removed]",
      "text/plain": [
       "<Figure size 864x432 with 1 Axes>"
      ]
     },
     "metadata": {
      "needs_background": "light"
     },
     "output_type": "display_data"
    }
   ],
   "source": [
    "sns.barplot(data = ratings, x ='Aggregate rating' , y ='Rating Count', hue = 'Rating color' )"
   ]
  },
  {
   "cell_type": "code",
   "execution_count": 84,
   "id": "2855d34f",
   "metadata": {},
   "outputs": [],
   "source": [
    "# here the color are different thus we need to map the color as well to get the right answer "
   ]
  },
  {
   "cell_type": "code",
   "execution_count": 86,
   "id": "22bc213d",
   "metadata": {},
   "outputs": [
    {
     "data": {
      "text/plain": [
       "<AxesSubplot:xlabel='Aggregate rating', ylabel='Rating Count'>"
      ]
     },
     "execution_count": 86,
     "metadata": {},
     "output_type": "execute_result"
    },
    {
     "data": {
      "image/png": "[encoded data removed]",
      "text/plain": [
       "<Figure size 864x432 with 1 Axes>"
      ]
     },
     "metadata": {
      "needs_background": "light"
     },
     "output_type": "display_data"
    }
   ],
   "source": [
    "sns.barplot(data = ratings, x ='Aggregate rating' , y ='Rating Count', hue = 'Rating color', palette = ['blue', 'red', 'orange', 'yellow', 'green', 'green'] )"
   ]
  },
  {
   "cell_type": "code",
   "execution_count": null,
   "id": "209dc7d6",
   "metadata": {},
   "outputs": [],
   "source": [
    "Observation\n",
    "1. Not rated count is very high\n",
    "2. maximum no. of rating is between 2.5 to 3.4\n"
   ]
  },
  {
   "cell_type": "code",
   "execution_count": 89,
   "id": "31e952a2",
   "metadata": {},
   "outputs": [
    {
     "data": {
      "text/plain": [
       "<AxesSubplot:xlabel='Rating color', ylabel='count'>"
      ]
     },
     "execution_count": 89,
     "metadata": {},
     "output_type": "execute_result"
    },
    {
     "data": {
      "image/png": "[encoded data removed]",
      "text/plain": [
       "<Figure size 864x432 with 1 Axes>"
      ]
     },
     "metadata": {
      "needs_background": "light"
     },
     "output_type": "display_data"
    }
   ],
   "source": [
    "# count plot\n",
    "sns.countplot(data = ratings, x ='Rating color', palette = ['blue', 'red', 'orange', 'yellow', 'green', 'green'] )"
   ]
  },
  {
   "cell_type": "code",
   "execution_count": null,
   "id": "6f5a0c74",
   "metadata": {},
   "outputs": [],
   "source": [
    "# This is not a rating count plot but it is giving how frequent white, Red, Orange.... is present in a rating dataset. "
   ]
  },
  {
   "cell_type": "code",
   "execution_count": null,
   "id": "b40f3fb5",
   "metadata": {},
   "outputs": [],
   "source": [
    "# find the countries that has given 0 rating"
   ]
  },
  {
   "cell_type": "code",
   "execution_count": 90,
   "id": "b1be50d9",
   "metadata": {},
   "outputs": [
    {
     "data": {
      "text/plain": [
       "Index(['Restaurant ID', 'Restaurant Name', 'Country Code', 'City', 'Address',\n",
       "       'Locality', 'Locality Verbose', 'Longitude', 'Latitude', 'Cuisines',\n",
       "       'Average Cost for two', 'Currency', 'Has Table booking',\n",
       "       'Has Online delivery', 'Is delivering now', 'Switch to order menu',\n",
       "       'Price range', 'Aggregate rating', 'Rating color', 'Rating text',\n",
       "       'Votes', 'Country'],\n",
       "      dtype='object')"
      ]
     },
     "execution_count": 90,
     "metadata": {},
     "output_type": "execute_result"
    }
   ],
   "source": [
    "final_df.columns"
   ]
  },
  {
   "cell_type": "code",
   "execution_count": 109,
   "id": "9597b910",
   "metadata": {},
   "outputs": [],
   "source": [
    "zero_ratings_giver = final_df[final_df['Rating color'] == 'White'].groupby('Country').size().reset_index().rename(columns = {0:'No. of Zero Ratings'})"
   ]
  },
  {
   "cell_type": "code",
   "execution_count": 111,
   "id": "b212579a",
   "metadata": {},
   "outputs": [
    {
     "data": {
      "text/html": [
       "<div>\n",
       "<style scoped>\n",
       "    .dataframe tbody tr th:only-of-type {\n",
       "        vertical-align: middle;\n",
       "    }\n",
       "\n",
       "    .dataframe tbody tr th {\n",
       "        vertical-align: top;\n",
       "    }\n",
       "\n",
       "    .dataframe thead th {\n",
       "        text-align: right;\n",
       "    }\n",
       "</style>\n",
       "<table border=\"1\" class=\"dataframe\">\n",
       "  <thead>\n",
       "    <tr style=\"text-align: right;\">\n",
       "      <th></th>\n",
       "      <th>Country</th>\n",
       "      <th>No. of Zero Ratings</th>\n",
       "    </tr>\n",
       "  </thead>\n",
       "  <tbody>\n",
       "    <tr>\n",
       "      <th>0</th>\n",
       "      <td>Brazil</td>\n",
       "      <td>5</td>\n",
       "    </tr>\n",
       "    <tr>\n",
       "      <th>1</th>\n",
       "      <td>India</td>\n",
       "      <td>2139</td>\n",
       "    </tr>\n",
       "    <tr>\n",
       "      <th>2</th>\n",
       "      <td>United Kingdom</td>\n",
       "      <td>1</td>\n",
       "    </tr>\n",
       "    <tr>\n",
       "      <th>3</th>\n",
       "      <td>United States</td>\n",
       "      <td>3</td>\n",
       "    </tr>\n",
       "  </tbody>\n",
       "</table>\n",
       "</div>"
      ],
      "text/plain": [
       "          Country  No. of Zero Ratings\n",
       "0          Brazil                    5\n",
       "1           India                 2139\n",
       "2  United Kingdom                    1\n",
       "3   United States                    3"
      ]
     },
     "execution_count": 111,
     "metadata": {},
     "output_type": "execute_result"
    }
   ],
   "source": [
    "zero_ratings_giver"
   ]
  },
  {
   "cell_type": "markdown",
   "id": "31d4cc9c",
   "metadata": {},
   "source": [
    "# Observation \n",
    "Maximum no. of 0 ratings are from India"
   ]
  },
  {
   "cell_type": "code",
   "execution_count": null,
   "id": "123a1ea2",
   "metadata": {},
   "outputs": [],
   "source": [
    "# find out which currency is used by which country"
   ]
  },
  {
   "cell_type": "code",
   "execution_count": 129,
   "id": "80b0fe16",
   "metadata": {},
   "outputs": [
    {
     "data": {
      "text/html": [
       "<div>\n",
       "<style scoped>\n",
       "    .dataframe tbody tr th:only-of-type {\n",
       "        vertical-align: middle;\n",
       "    }\n",
       "\n",
       "    .dataframe tbody tr th {\n",
       "        vertical-align: top;\n",
       "    }\n",
       "\n",
       "    .dataframe thead th {\n",
       "        text-align: right;\n",
       "    }\n",
       "</style>\n",
       "<table border=\"1\" class=\"dataframe\">\n",
       "  <thead>\n",
       "    <tr style=\"text-align: right;\">\n",
       "      <th></th>\n",
       "      <th>Country</th>\n",
       "      <th>Currency</th>\n",
       "      <th>0</th>\n",
       "    </tr>\n",
       "  </thead>\n",
       "  <tbody>\n",
       "    <tr>\n",
       "      <th>0</th>\n",
       "      <td>Australia</td>\n",
       "      <td>Dollar($)</td>\n",
       "      <td>24</td>\n",
       "    </tr>\n",
       "    <tr>\n",
       "      <th>1</th>\n",
       "      <td>Brazil</td>\n",
       "      <td>Brazilian Real(R$)</td>\n",
       "      <td>60</td>\n",
       "    </tr>\n",
       "    <tr>\n",
       "      <th>2</th>\n",
       "      <td>Canada</td>\n",
       "      <td>Dollar($)</td>\n",
       "      <td>4</td>\n",
       "    </tr>\n",
       "    <tr>\n",
       "      <th>3</th>\n",
       "      <td>India</td>\n",
       "      <td>Indian Rupees(Rs.)</td>\n",
       "      <td>8652</td>\n",
       "    </tr>\n",
       "    <tr>\n",
       "      <th>4</th>\n",
       "      <td>Indonesia</td>\n",
       "      <td>Indonesian Rupiah(IDR)</td>\n",
       "      <td>21</td>\n",
       "    </tr>\n",
       "    <tr>\n",
       "      <th>5</th>\n",
       "      <td>New Zealand</td>\n",
       "      <td>NewZealand($)</td>\n",
       "      <td>40</td>\n",
       "    </tr>\n",
       "    <tr>\n",
       "      <th>6</th>\n",
       "      <td>Phillipines</td>\n",
       "      <td>Botswana Pula(P)</td>\n",
       "      <td>22</td>\n",
       "    </tr>\n",
       "    <tr>\n",
       "      <th>7</th>\n",
       "      <td>Qatar</td>\n",
       "      <td>Qatari Rial(QR)</td>\n",
       "      <td>20</td>\n",
       "    </tr>\n",
       "    <tr>\n",
       "      <th>8</th>\n",
       "      <td>Singapore</td>\n",
       "      <td>Dollar($)</td>\n",
       "      <td>20</td>\n",
       "    </tr>\n",
       "    <tr>\n",
       "      <th>9</th>\n",
       "      <td>South Africa</td>\n",
       "      <td>Rand(R)</td>\n",
       "      <td>60</td>\n",
       "    </tr>\n",
       "    <tr>\n",
       "      <th>10</th>\n",
       "      <td>Sri Lanka</td>\n",
       "      <td>Sri Lankan Rupee(LKR)</td>\n",
       "      <td>20</td>\n",
       "    </tr>\n",
       "    <tr>\n",
       "      <th>11</th>\n",
       "      <td>Turkey</td>\n",
       "      <td>Turkish Lira(TL)</td>\n",
       "      <td>34</td>\n",
       "    </tr>\n",
       "    <tr>\n",
       "      <th>12</th>\n",
       "      <td>UAE</td>\n",
       "      <td>Emirati Diram(AED)</td>\n",
       "      <td>60</td>\n",
       "    </tr>\n",
       "    <tr>\n",
       "      <th>13</th>\n",
       "      <td>United Kingdom</td>\n",
       "      <td>Pounds(£)</td>\n",
       "      <td>80</td>\n",
       "    </tr>\n",
       "    <tr>\n",
       "      <th>14</th>\n",
       "      <td>United States</td>\n",
       "      <td>Dollar($)</td>\n",
       "      <td>434</td>\n",
       "    </tr>\n",
       "  </tbody>\n",
       "</table>\n",
       "</div>"
      ],
      "text/plain": [
       "           Country                Currency     0\n",
       "0        Australia               Dollar($)    24\n",
       "1           Brazil      Brazilian Real(R$)    60\n",
       "2           Canada               Dollar($)     4\n",
       "3            India      Indian Rupees(Rs.)  8652\n",
       "4        Indonesia  Indonesian Rupiah(IDR)    21\n",
       "5      New Zealand           NewZealand($)    40\n",
       "6      Phillipines        Botswana Pula(P)    22\n",
       "7            Qatar         Qatari Rial(QR)    20\n",
       "8        Singapore               Dollar($)    20\n",
       "9     South Africa                 Rand(R)    60\n",
       "10       Sri Lanka   Sri Lankan Rupee(LKR)    20\n",
       "11          Turkey        Turkish Lira(TL)    34\n",
       "12             UAE      Emirati Diram(AED)    60\n",
       "13  United Kingdom              Pounds(£)    80\n",
       "14   United States               Dollar($)   434"
      ]
     },
     "execution_count": 129,
     "metadata": {},
     "output_type": "execute_result"
    }
   ],
   "source": [
    "final_df.groupby(['Country', 'Currency']).size().reset_index()."
   ]
  },
  {
   "cell_type": "code",
   "execution_count": 130,
   "id": "5786c5ba",
   "metadata": {},
   "outputs": [],
   "source": [
    "# Which Countries do have online delivery option"
   ]
  },
  {
   "cell_type": "code",
   "execution_count": 139,
   "id": "2cf78691",
   "metadata": {},
   "outputs": [
    {
     "data": {
      "text/html": [
       "<div>\n",
       "<style scoped>\n",
       "    .dataframe tbody tr th:only-of-type {\n",
       "        vertical-align: middle;\n",
       "    }\n",
       "\n",
       "    .dataframe tbody tr th {\n",
       "        vertical-align: top;\n",
       "    }\n",
       "\n",
       "    .dataframe thead th {\n",
       "        text-align: right;\n",
       "    }\n",
       "</style>\n",
       "<table border=\"1\" class=\"dataframe\">\n",
       "  <thead>\n",
       "    <tr style=\"text-align: right;\">\n",
       "      <th></th>\n",
       "      <th>Country</th>\n",
       "      <th>Has Online delivery</th>\n",
       "      <th>online delivery count</th>\n",
       "    </tr>\n",
       "  </thead>\n",
       "  <tbody>\n",
       "    <tr>\n",
       "      <th>0</th>\n",
       "      <td>India</td>\n",
       "      <td>Yes</td>\n",
       "      <td>2423</td>\n",
       "    </tr>\n",
       "    <tr>\n",
       "      <th>1</th>\n",
       "      <td>UAE</td>\n",
       "      <td>Yes</td>\n",
       "      <td>28</td>\n",
       "    </tr>\n",
       "  </tbody>\n",
       "</table>\n",
       "</div>"
      ],
      "text/plain": [
       "  Country Has Online delivery  online delivery count\n",
       "0   India                 Yes                   2423\n",
       "1     UAE                 Yes                     28"
      ]
     },
     "execution_count": 139,
     "metadata": {},
     "output_type": "execute_result"
    }
   ],
   "source": [
    "df_final[df_final['Has Online delivery'] =='Yes'].groupby(['Country', 'Has Online delivery']).size().reset_index().rename(columns = {0:'online delivery count'})"
   ]
  },
  {
   "cell_type": "code",
   "execution_count": 149,
   "id": "509725be",
   "metadata": {},
   "outputs": [
    {
     "data": {
      "text/html": [
       "<div>\n",
       "<style scoped>\n",
       "    .dataframe tbody tr th:only-of-type {\n",
       "        vertical-align: middle;\n",
       "    }\n",
       "\n",
       "    .dataframe tbody tr th {\n",
       "        vertical-align: top;\n",
       "    }\n",
       "\n",
       "    .dataframe thead th {\n",
       "        text-align: right;\n",
       "    }\n",
       "</style>\n",
       "<table border=\"1\" class=\"dataframe\">\n",
       "  <thead>\n",
       "    <tr style=\"text-align: right;\">\n",
       "      <th></th>\n",
       "      <th>Country</th>\n",
       "      <th>Has Online delivery</th>\n",
       "      <th>No online delivery count</th>\n",
       "    </tr>\n",
       "  </thead>\n",
       "  <tbody>\n",
       "    <tr>\n",
       "      <th>0</th>\n",
       "      <td>Australia</td>\n",
       "      <td>No</td>\n",
       "      <td>24</td>\n",
       "    </tr>\n",
       "    <tr>\n",
       "      <th>1</th>\n",
       "      <td>Brazil</td>\n",
       "      <td>No</td>\n",
       "      <td>60</td>\n",
       "    </tr>\n",
       "    <tr>\n",
       "      <th>2</th>\n",
       "      <td>Canada</td>\n",
       "      <td>No</td>\n",
       "      <td>4</td>\n",
       "    </tr>\n",
       "    <tr>\n",
       "      <th>3</th>\n",
       "      <td>India</td>\n",
       "      <td>No</td>\n",
       "      <td>6229</td>\n",
       "    </tr>\n",
       "    <tr>\n",
       "      <th>4</th>\n",
       "      <td>Indonesia</td>\n",
       "      <td>No</td>\n",
       "      <td>21</td>\n",
       "    </tr>\n",
       "    <tr>\n",
       "      <th>5</th>\n",
       "      <td>New Zealand</td>\n",
       "      <td>No</td>\n",
       "      <td>40</td>\n",
       "    </tr>\n",
       "    <tr>\n",
       "      <th>6</th>\n",
       "      <td>Phillipines</td>\n",
       "      <td>No</td>\n",
       "      <td>22</td>\n",
       "    </tr>\n",
       "    <tr>\n",
       "      <th>7</th>\n",
       "      <td>Qatar</td>\n",
       "      <td>No</td>\n",
       "      <td>20</td>\n",
       "    </tr>\n",
       "    <tr>\n",
       "      <th>8</th>\n",
       "      <td>Singapore</td>\n",
       "      <td>No</td>\n",
       "      <td>20</td>\n",
       "    </tr>\n",
       "    <tr>\n",
       "      <th>9</th>\n",
       "      <td>South Africa</td>\n",
       "      <td>No</td>\n",
       "      <td>60</td>\n",
       "    </tr>\n",
       "    <tr>\n",
       "      <th>10</th>\n",
       "      <td>Sri Lanka</td>\n",
       "      <td>No</td>\n",
       "      <td>20</td>\n",
       "    </tr>\n",
       "    <tr>\n",
       "      <th>11</th>\n",
       "      <td>Turkey</td>\n",
       "      <td>No</td>\n",
       "      <td>34</td>\n",
       "    </tr>\n",
       "    <tr>\n",
       "      <th>12</th>\n",
       "      <td>UAE</td>\n",
       "      <td>No</td>\n",
       "      <td>32</td>\n",
       "    </tr>\n",
       "    <tr>\n",
       "      <th>13</th>\n",
       "      <td>United Kingdom</td>\n",
       "      <td>No</td>\n",
       "      <td>80</td>\n",
       "    </tr>\n",
       "    <tr>\n",
       "      <th>14</th>\n",
       "      <td>United States</td>\n",
       "      <td>No</td>\n",
       "      <td>434</td>\n",
       "    </tr>\n",
       "  </tbody>\n",
       "</table>\n",
       "</div>"
      ],
      "text/plain": [
       "           Country Has Online delivery   No online delivery count\n",
       "0        Australia                  No                         24\n",
       "1           Brazil                  No                         60\n",
       "2           Canada                  No                          4\n",
       "3            India                  No                       6229\n",
       "4        Indonesia                  No                         21\n",
       "5      New Zealand                  No                         40\n",
       "6      Phillipines                  No                         22\n",
       "7            Qatar                  No                         20\n",
       "8        Singapore                  No                         20\n",
       "9     South Africa                  No                         60\n",
       "10       Sri Lanka                  No                         20\n",
       "11          Turkey                  No                         34\n",
       "12             UAE                  No                         32\n",
       "13  United Kingdom                  No                         80\n",
       "14   United States                  No                        434"
      ]
     },
     "execution_count": 149,
     "metadata": {},
     "output_type": "execute_result"
    }
   ],
   "source": [
    "df_final[df_final['Has Online delivery'] =='No'].groupby(['Country', 'Has Online delivery']).size().reset_index().rename(columns = {0:' No online delivery count'})"
   ]
  },
  {
   "cell_type": "markdown",
   "id": "5aa88aec",
   "metadata": {},
   "source": [
    "# Observation\n",
    "1. Online Deliveries is avilable in India and UAE"
   ]
  },
  {
   "cell_type": "code",
   "execution_count": 151,
   "id": "27efd425",
   "metadata": {},
   "outputs": [],
   "source": [
    "# Create a pie chart for cities distribution"
   ]
  },
  {
   "cell_type": "code",
   "execution_count": 161,
   "id": "c1419a11",
   "metadata": {},
   "outputs": [],
   "source": [
    "city_label = final_df.City.value_counts().index"
   ]
  },
  {
   "cell_type": "code",
   "execution_count": 167,
   "id": "93e8eeba",
   "metadata": {},
   "outputs": [
    {
     "data": {
      "text/plain": [
       "Index(['New Delhi', 'Gurgaon', 'Noida', 'Faridabad', 'Ghaziabad',\n",
       "       'Bhubaneshwar', 'Amritsar', 'Ahmedabad', 'Lucknow', 'Guwahati',\n",
       "       ...\n",
       "       'Ojo Caliente', 'Montville', 'Monroe', 'Miller', 'Middleton Beach',\n",
       "       'Panchkula', 'Mc Millan', 'Mayfield', 'Macedon', 'Vineland Station'],\n",
       "      dtype='object', length=141)"
      ]
     },
     "execution_count": 167,
     "metadata": {},
     "output_type": "execute_result"
    }
   ],
   "source": [
    "city_label"
   ]
  },
  {
   "cell_type": "code",
   "execution_count": 162,
   "id": "aee42847",
   "metadata": {},
   "outputs": [],
   "source": [
    "city_value = final_df.City.value_counts().values"
   ]
  },
  {
   "cell_type": "code",
   "execution_count": 164,
   "id": "bab66c18",
   "metadata": {},
   "outputs": [
    {
     "data": {
      "text/plain": [
       "([<matplotlib.patches.Wedge at 0x2b4a80a3730>,\n",
       "  <matplotlib.patches.Wedge at 0x2b4a80a3b20>,\n",
       "  <matplotlib.patches.Wedge at 0x2b4a80a3040>,\n",
       "  <matplotlib.patches.Wedge at 0x2b4a7fe73d0>,\n",
       "  <matplotlib.patches.Wedge at 0x2b4aeaa3a30>,\n",
       "  <matplotlib.patches.Wedge at 0x2b4a80b2490>,\n",
       "  <matplotlib.patches.Wedge at 0x2b4a80b2970>,\n",
       "  <matplotlib.patches.Wedge at 0x2b4a80b2070>,\n",
       "  <matplotlib.patches.Wedge at 0x2b4aecc40d0>,\n",
       "  <matplotlib.patches.Wedge at 0x2b4a7fdb2b0>,\n",
       "  <matplotlib.patches.Wedge at 0x2b4a80a3640>,\n",
       "  <matplotlib.patches.Wedge at 0x2b4a81007f0>,\n",
       "  <matplotlib.patches.Wedge at 0x2b4a8100cd0>,\n",
       "  <matplotlib.patches.Wedge at 0x2b4a810e1f0>,\n",
       "  <matplotlib.patches.Wedge at 0x2b4a810e6d0>,\n",
       "  <matplotlib.patches.Wedge at 0x2b4a810ebb0>,\n",
       "  <matplotlib.patches.Wedge at 0x2b4a811a100>,\n",
       "  <matplotlib.patches.Wedge at 0x2b4a811a5e0>,\n",
       "  <matplotlib.patches.Wedge at 0x2b4a811aac0>,\n",
       "  <matplotlib.patches.Wedge at 0x2b4a811afa0>,\n",
       "  <matplotlib.patches.Wedge at 0x2b4a81274c0>,\n",
       "  <matplotlib.patches.Wedge at 0x2b4a81279a0>,\n",
       "  <matplotlib.patches.Wedge at 0x2b4a8127e80>,\n",
       "  <matplotlib.patches.Wedge at 0x2b4aa3823a0>,\n",
       "  <matplotlib.patches.Wedge at 0x2b4aa382880>,\n",
       "  <matplotlib.patches.Wedge at 0x2b4aa382d60>,\n",
       "  <matplotlib.patches.Wedge at 0x2b4aa390280>,\n",
       "  <matplotlib.patches.Wedge at 0x2b4aa390760>,\n",
       "  <matplotlib.patches.Wedge at 0x2b4a80c1850>,\n",
       "  <matplotlib.patches.Wedge at 0x2b4aebb6640>,\n",
       "  <matplotlib.patches.Wedge at 0x2b4aa390e20>,\n",
       "  <matplotlib.patches.Wedge at 0x2b4aa39b340>,\n",
       "  <matplotlib.patches.Wedge at 0x2b4aa39b820>,\n",
       "  <matplotlib.patches.Wedge at 0x2b4aa39bd00>,\n",
       "  <matplotlib.patches.Wedge at 0x2b4aa3a2220>,\n",
       "  <matplotlib.patches.Wedge at 0x2b4aa3a2700>,\n",
       "  <matplotlib.patches.Wedge at 0x2b4aa3a2be0>,\n",
       "  <matplotlib.patches.Wedge at 0x2b4aa3a5100>,\n",
       "  <matplotlib.patches.Wedge at 0x2b4aa3a55e0>,\n",
       "  <matplotlib.patches.Wedge at 0x2b4aa3a5ac0>,\n",
       "  <matplotlib.patches.Wedge at 0x2b4aa3a5fd0>,\n",
       "  <matplotlib.patches.Wedge at 0x2b4aa3ab4f0>,\n",
       "  <matplotlib.patches.Wedge at 0x2b4aa3ab9d0>,\n",
       "  <matplotlib.patches.Wedge at 0x2b4aa3abeb0>,\n",
       "  <matplotlib.patches.Wedge at 0x2b4aa3b33d0>,\n",
       "  <matplotlib.patches.Wedge at 0x2b4aa3b38b0>,\n",
       "  <matplotlib.patches.Wedge at 0x2b4aa3b3d90>,\n",
       "  <matplotlib.patches.Wedge at 0x2b4aa3b92b0>,\n",
       "  <matplotlib.patches.Wedge at 0x2b4aa3b9790>,\n",
       "  <matplotlib.patches.Wedge at 0x2b4aa3b9ca0>,\n",
       "  <matplotlib.patches.Wedge at 0x2b4aa3c11c0>,\n",
       "  <matplotlib.patches.Wedge at 0x2b4aa3c16a0>,\n",
       "  <matplotlib.patches.Wedge at 0x2b4aa3c1b80>,\n",
       "  <matplotlib.patches.Wedge at 0x2b4aa3c90a0>,\n",
       "  <matplotlib.patches.Wedge at 0x2b4aa3c9580>,\n",
       "  <matplotlib.patches.Wedge at 0x2b4aa3c9a60>,\n",
       "  <matplotlib.patches.Wedge at 0x2b4aa3c9f40>,\n",
       "  <matplotlib.patches.Wedge at 0x2b4aa3d0460>,\n",
       "  <matplotlib.patches.Wedge at 0x2b4aa3d0940>,\n",
       "  <matplotlib.patches.Wedge at 0x2b4aa3d0e20>,\n",
       "  <matplotlib.patches.Wedge at 0x2b4aa3d9340>,\n",
       "  <matplotlib.patches.Wedge at 0x2b4aa3d9820>,\n",
       "  <matplotlib.patches.Wedge at 0x2b4aa3d9d00>,\n",
       "  <matplotlib.patches.Wedge at 0x2b4aa3e4220>,\n",
       "  <matplotlib.patches.Wedge at 0x2b4aa3e4700>,\n",
       "  <matplotlib.patches.Wedge at 0x2b4aa3e4be0>,\n",
       "  <matplotlib.patches.Wedge at 0x2b4aa3ed100>,\n",
       "  <matplotlib.patches.Wedge at 0x2b4aa3ed5e0>,\n",
       "  <matplotlib.patches.Wedge at 0x2b4aa3edac0>,\n",
       "  <matplotlib.patches.Wedge at 0x2b4aa3edfa0>,\n",
       "  <matplotlib.patches.Wedge at 0x2b4aa3f74c0>,\n",
       "  <matplotlib.patches.Wedge at 0x2b4aa3f79a0>,\n",
       "  <matplotlib.patches.Wedge at 0x2b4aa3f7e80>,\n",
       "  <matplotlib.patches.Wedge at 0x2b4aa4013a0>,\n",
       "  <matplotlib.patches.Wedge at 0x2b4aa401880>,\n",
       "  <matplotlib.patches.Wedge at 0x2b4aa401d60>,\n",
       "  <matplotlib.patches.Wedge at 0x2b4aa40c280>,\n",
       "  <matplotlib.patches.Wedge at 0x2b4aa40c760>,\n",
       "  <matplotlib.patches.Wedge at 0x2b4aa40cc40>,\n",
       "  <matplotlib.patches.Wedge at 0x2b4aa415160>,\n",
       "  <matplotlib.patches.Wedge at 0x2b4aa415640>,\n",
       "  <matplotlib.patches.Wedge at 0x2b4aa415b20>,\n",
       "  <matplotlib.patches.Wedge at 0x2b4aa421040>,\n",
       "  <matplotlib.patches.Wedge at 0x2b4aa421520>,\n",
       "  <matplotlib.patches.Wedge at 0x2b4aa421a00>,\n",
       "  <matplotlib.patches.Wedge at 0x2b4aa421ee0>,\n",
       "  <matplotlib.patches.Wedge at 0x2b4aa42d400>,\n",
       "  <matplotlib.patches.Wedge at 0x2b4aa42d8e0>,\n",
       "  <matplotlib.patches.Wedge at 0x2b4aa42ddc0>,\n",
       "  <matplotlib.patches.Wedge at 0x2b4aa4392e0>,\n",
       "  <matplotlib.patches.Wedge at 0x2b4aa4397c0>,\n",
       "  <matplotlib.patches.Wedge at 0x2b4aa439ca0>,\n",
       "  <matplotlib.patches.Wedge at 0x2b4aa4461c0>,\n",
       "  <matplotlib.patches.Wedge at 0x2b4aa4466a0>,\n",
       "  <matplotlib.patches.Wedge at 0x2b4aa446b80>,\n",
       "  <matplotlib.patches.Wedge at 0x2b4aa4510a0>,\n",
       "  <matplotlib.patches.Wedge at 0x2b4aa451580>,\n",
       "  <matplotlib.patches.Wedge at 0x2b4aa451a60>,\n",
       "  <matplotlib.patches.Wedge at 0x2b4aa451f40>,\n",
       "  <matplotlib.patches.Wedge at 0x2b4aa45f460>,\n",
       "  <matplotlib.patches.Wedge at 0x2b4aa45f940>,\n",
       "  <matplotlib.patches.Wedge at 0x2b4aa45fe20>,\n",
       "  <matplotlib.patches.Wedge at 0x2b4aa46b340>,\n",
       "  <matplotlib.patches.Wedge at 0x2b4aa46b820>,\n",
       "  <matplotlib.patches.Wedge at 0x2b4aa46bd00>,\n",
       "  <matplotlib.patches.Wedge at 0x2b4aa479220>,\n",
       "  <matplotlib.patches.Wedge at 0x2b4aa479700>,\n",
       "  <matplotlib.patches.Wedge at 0x2b4aa479be0>,\n",
       "  <matplotlib.patches.Wedge at 0x2b4aee53100>,\n",
       "  <matplotlib.patches.Wedge at 0x2b4aee535e0>,\n",
       "  <matplotlib.patches.Wedge at 0x2b4aee53ac0>,\n",
       "  <matplotlib.patches.Wedge at 0x2b4aee53fa0>,\n",
       "  <matplotlib.patches.Wedge at 0x2b4aee604c0>,\n",
       "  <matplotlib.patches.Wedge at 0x2b4aee609a0>,\n",
       "  <matplotlib.patches.Wedge at 0x2b4aee60e80>,\n",
       "  <matplotlib.patches.Wedge at 0x2b4aee6e3a0>,\n",
       "  <matplotlib.patches.Wedge at 0x2b4aee6e880>,\n",
       "  <matplotlib.patches.Wedge at 0x2b4aee6ed60>,\n",
       "  <matplotlib.patches.Wedge at 0x2b4aee7a280>,\n",
       "  <matplotlib.patches.Wedge at 0x2b4aee7a760>,\n",
       "  <matplotlib.patches.Wedge at 0x2b4aee7ac40>,\n",
       "  <matplotlib.patches.Wedge at 0x2b4aee86160>,\n",
       "  <matplotlib.patches.Wedge at 0x2b4aee86640>,\n",
       "  <matplotlib.patches.Wedge at 0x2b4aee86b20>,\n",
       "  <matplotlib.patches.Wedge at 0x2b4aee94040>,\n",
       "  <matplotlib.patches.Wedge at 0x2b4aee94520>,\n",
       "  <matplotlib.patches.Wedge at 0x2b4aee94a00>,\n",
       "  <matplotlib.patches.Wedge at 0x2b4aee94ee0>,\n",
       "  <matplotlib.patches.Wedge at 0x2b4aeea0400>,\n",
       "  <matplotlib.patches.Wedge at 0x2b4aeea08e0>,\n",
       "  <matplotlib.patches.Wedge at 0x2b4aeea0dc0>,\n",
       "  <matplotlib.patches.Wedge at 0x2b4aeeaa2e0>,\n",
       "  <matplotlib.patches.Wedge at 0x2b4aeeaa7c0>,\n",
       "  <matplotlib.patches.Wedge at 0x2b4aeeaaca0>,\n",
       "  <matplotlib.patches.Wedge at 0x2b4aeeb81c0>,\n",
       "  <matplotlib.patches.Wedge at 0x2b4aeeb86a0>,\n",
       "  <matplotlib.patches.Wedge at 0x2b4aeeb8b80>,\n",
       "  <matplotlib.patches.Wedge at 0x2b4aeec30a0>,\n",
       "  <matplotlib.patches.Wedge at 0x2b4aeec3580>,\n",
       "  <matplotlib.patches.Wedge at 0x2b4aeec3a60>,\n",
       "  <matplotlib.patches.Wedge at 0x2b4aeec3f40>],\n",
       " [Text(-0.2501618674207579, 1.0711764747643402, 'New Delhi'),\n",
       "  Text(-0.745121915719338, -0.8091930120278745, 'Gurgaon'),\n",
       "  Text(-0.023335860702208486, -1.0997524437823665, 'Noida'),\n",
       "  Text(0.4451062250173843, -1.0059226851258372, 'Faridabad'),\n",
       "  Text(0.5344697170236794, -0.9614271275477035, 'Ghaziabad'),\n",
       "  Text(0.5489550432957175, -0.9532304865247423, 'Bhubaneshwar'),\n",
       "  Text(0.5620711022307091, -0.9455559613461045, 'Amritsar'),\n",
       "  Text(0.5750798895062447, -0.9377009761568373, 'Ahmedabad'),\n",
       "  Text(0.5879789223862543, -0.9296670300863097, 'Lucknow'),\n",
       "  Text(0.6007657390813725, -0.9214556564186973, 'Guwahati'),\n",
       "  Text(0.6131375319471077, -0.9132701500201403, 'Ludhiana'),\n",
       "  Text(0.625100125752387, -0.9051242084843107, 'Rest of Hawaii'),\n",
       "  Text(0.6369545100691332, -0.8968215832051494, 'Kochi'),\n",
       "  Text(0.6486986328151094, -0.888363711428944, 'Kolkata'),\n",
       "  Text(0.6603304609951781, -0.8797520572763077, 'Pocatello'),\n",
       "  Text(0.6718479810532302, -0.8709881114887267, 'Pensacola'),\n",
       "  Text(0.6832491992207405, -0.8620733911705064, 'Mumbai'),\n",
       "  Text(0.6945321418619113, -0.853009439526144, 'Mangalore'),\n",
       "  Text(0.7056948558153163, -0.8437978255931927, 'Singapore'),\n",
       "  Text(0.7167354087320118, -0.8344401439706484, 'Orlando'),\n",
       "  Text(0.7276518894100411, -0.8249380145429095, 'Mysore'),\n",
       "  Text(0.7384424081252736, -0.8152930821993689, 'Nagpur'),\n",
       "  Text(0.749105096958536, -0.8055070165496653, 'Nashik'),\n",
       "  Text(0.7596381101189571, -0.7955815116346655, 'Coimbatore'),\n",
       "  Text(0.7700396242634912, -0.7855182856332128, 'Dehradun'),\n",
       "  Text(0.7803078388125538, -0.7753190805646936, 'Savannah'),\n",
       "  Text(0.7904409762617105, -0.7649856619874872, 'Tampa Bay'),\n",
       "  Text(0.8004372824893825, -0.7545198186933281, 'Sioux City'),\n",
       "  Text(0.810295027060492, -0.7439233623976578, 'Abu Dhabi'),\n",
       "  Text(0.8200125035260163, -0.7331981274260015, 'Bangalore'),\n",
       "  Text(0.8295880297183893, -0.7223459703964306, 'Aurangabad'),\n",
       "  Text(0.8390199480426914, -0.7113687698981728, 'Allahabad'),\n",
       "  Text(0.8483066257635978, -0.7002684261664089, 'Agra'),\n",
       "  Text(0.857446455288012, -0.6890468607533333, 'Sharjah'),\n",
       "  Text(0.8664378544433541, -0.6777060161955162, 'Dubai'),\n",
       "  Text(0.8752792667514493, -0.666247855677634, 'Goa'),\n",
       "  Text(0.8839691616979604, -0.6546743626926333, 'Bhopal'),\n",
       "  Text(0.8925060349973365, -0.6429875406983664, 'Chennai'),\n",
       "  Text(0.9008884088532129, -0.6311894127707836, 'Waterloo'),\n",
       "  Text(0.9091148322142286, -0.6192820212537218, 'Indore'),\n",
       "  Text(0.9171838810252173, -0.6072674274053569, 'Valdosta'),\n",
       "  Text(0.925094158473717, -0.5951477110413896, 'Puducherry'),\n",
       "  Text(0.9328442952317741, -0.5829249701750087, 'Kanpur'),\n",
       "  Text(0.9404329496929795, -0.5706013206537136, 'Jaipur'),\n",
       "  Text(0.9478588082047126, -0.5581788957930441, 'Patna'),\n",
       "  Text(0.9551205852955462, -0.5456598460072843, 'Macon'),\n",
       "  Text(0.9622170238977674, -0.5330463384372164, 'Edinburgh'),\n",
       "  Text(0.9691468955649892, -0.5203405565749647, 'London'),\n",
       "  Text(0.9759090006848006, -0.5075446998860239, 'Manchester'),\n",
       "  Text(0.9825021686864295, -0.4946609834285123, 'Pune'),\n",
       "  Text(0.9889252582433793, -0.4816916374697259, 'Cedar Rapids/Iowa City'),\n",
       "  Text(0.9951771574709969, -0.4686389071000686, 'Boise'),\n",
       "  Text(1.0012567841189528, -0.4555050518444039, 'Cape Town'),\n",
       "  Text(1.0071630857585825, -0.4422923452709196, 'Augusta'),\n",
       "  Text(1.0128950399650722, -0.4290030745975545, 'Athens'),\n",
       "  Text(1.0184516544944486, -0.4156395402960603, 'Albany'),\n",
       "  Text(1.023831967455341, -0.40220405569378004, 'Sí£o Paulo'),\n",
       "  Text(1.0290350474754957, -0.3886989465731858, 'Rio de Janeiro'),\n",
       "  Text(1.0340599938629995, -0.37512655076927554, 'Brasí_lia'),\n",
       "  Text(1.038905936762198, -0.3614892177648731, 'Pretoria'),\n",
       "  Text(1.0435720373042763, -0.3477893082839128, 'Colombo'),\n",
       "  Text(1.0480574877524684, -0.334029193882787, 'Ankara'),\n",
       "  Text(1.052361511641888, -0.32021125653980437, 'Columbus'),\n",
       "  Text(1.056483363913936, -0.30633788824285857, 'Doha'),\n",
       "  Text(1.0604223310452774, -0.2924114905753542, 'Dalton'),\n",
       "  Text(1.0641777311713583, -0.27843447430047213, 'Varanasi'),\n",
       "  Text(1.0677489142044403, -0.26440925894385514, 'Des Moines'),\n",
       "  Text(1.071135261946137, -0.2503382723747622, 'Birmingham'),\n",
       "  Text(1.0743361881944267, -0.23622395038579308, 'Dubuque'),\n",
       "  Text(1.07735113884513, -0.2220687362712315, 'Ranchi'),\n",
       "  Text(1.0801795919878292, -0.20787508040408997, 'Wellington City'),\n",
       "  Text(1.0828210579962145, -0.19364543981193752, 'Auckland'),\n",
       "  Text(1.0852750796128416, -0.17938227775156726, 'Surat'),\n",
       "  Text(1.0875412320282876, -0.16508806328258516, 'Gainesville'),\n",
       "  Text(1.0896191229546865, -0.15076527084000446, 'Davenport'),\n",
       "  Text(1.0915083926936402, -0.1364163798058945, 'Vadodara'),\n",
       "  Text(1.0932087141984825, -0.12204387408018827, 'Vizag'),\n",
       "  Text(1.0946487378584324, -0.10837038666047613, 'Hyderabad'),\n",
       "  Text(1.0958552219281623, -0.0954009044652007, 'Chandigarh'),\n",
       "  Text(1.0968535914548911, -0.08313963502750614, 'Jakarta'),\n",
       "  Text(1.0976205848484757, -0.07231218235463886, 'ÛÁstanbul'),\n",
       "  Text(1.0981781050169444, -0.06328388152913558, 'Sandton'),\n",
       "  Text(1.0985148037575858, -0.05714215541465917, 'Johannesburg'),\n",
       "  Text(1.0986968174339933, -0.05352852847234547, 'Taguig City'),\n",
       "  Text(1.0988338696837698, -0.0506372080173505, 'Mandaluyong City'),\n",
       "  Text(1.0989475488721216, -0.048107014332176026, 'Pasig City'),\n",
       "  Text(1.0990403511294076, -0.04593807341790467, 'Pasay City'),\n",
       "  Text(1.0991144163556001, -0.044130485599965186, 'Bogor'),\n",
       "  Text(1.099171528036114, -0.042684329147290576, 'Inner City'),\n",
       "  Text(1.0992267369414956, -0.041238098803800964, 'Secunderabad'),\n",
       "  Text(1.0992800429761727, -0.03979179707306476, 'Tangerang'),\n",
       "  Text(1.0993314460478671, -0.03834542645877398, 'Makati City'),\n",
       "  Text(1.0993809460675954, -0.036898989464739865, 'San Juan City'),\n",
       "  Text(1.0994285429496677, -0.03545248859488858, 'Santa Rosa'),\n",
       "  Text(1.0994742366116894, -0.03400592635325686, 'Hepburn Springs'),\n",
       "  Text(1.0995072578223395, -0.032920965903197284, 'Yorkton'),\n",
       "  Text(1.0995286771658292, -0.03219764106206654, 'Consort'),\n",
       "  Text(1.0995496206609192, -0.031474302286605305, 'Inverloch'),\n",
       "  Text(1.0995700882985457, -0.030750949889856428, 'Huskisson'),\n",
       "  Text(1.0995900800698508, -0.03002758418486867, 'Bandung'),\n",
       "  Text(1.0996095959661822, -0.029304205484696536, 'Forrest'),\n",
       "  Text(1.0996286359790945, -0.02858081410240017, 'Flaxton'),\n",
       "  Text(1.0996472001003474, -0.027857410351045192, 'Fernley'),\n",
       "  Text(1.099665288321907, -0.027133994543702578, 'East Ballina'),\n",
       "  Text(1.0996829006359445, -0.02641056699344852, 'Dicky Beach'),\n",
       "  Text(1.0997000370348387, -0.0256871280133643, 'Cochrane'),\n",
       "  Text(1.0997166975111725, -0.02496367791653614, 'Lakeview'),\n",
       "  Text(1.0997328820577363, -0.024240217016055075, 'Clatskanie'),\n",
       "  Text(1.0997485906675255, -0.02351674562501681, 'Chatham-Kent'),\n",
       "  Text(1.099763823333742, -0.0227932640565216, 'Beechworth'),\n",
       "  Text(1.0997785800497932, -0.022069772623674103, 'Balingup'),\n",
       "  Text(1.099792860809293, -0.021346271639583234, 'Armidale'),\n",
       "  Text(1.0998066656060612, -0.020622761417362058, 'Tagaytay City'),\n",
       "  Text(1.0998199944341234, -0.019899242270127623, 'Randburg'),\n",
       "  Text(1.0998328472877106, -0.01917571451100085, 'Quezon City'),\n",
       "  Text(1.0998452241612613, -0.018452178453106385, 'Lakes Entrance'),\n",
       "  Text(1.0998571250494182, -0.017728634409572463, 'Lincoln'),\n",
       "  Text(1.0998685499470318, -0.017005082693530776, 'Winchester Bay'),\n",
       "  Text(1.0998794988491571, -0.016281523618116335, 'Lorn'),\n",
       "  Text(1.0998899717510557, -0.015557957496467338, 'Weirton'),\n",
       "  Text(1.0998999686481954, -0.014834384641725037, 'Victor Harbor'),\n",
       "  Text(1.0999094895362498, -0.014110805367033586, 'Vernonia'),\n",
       "  Text(1.0999185344110984, -0.013387219985539931, 'Trentham East'),\n",
       "  Text(1.099927103268827, -0.012663628810393646, 'Tanunda'),\n",
       "  Text(1.0999351961057269, -0.01194003215474683, 'Princeton'),\n",
       "  Text(1.0999428129182958, -0.011216430331753936, 'Potrero'),\n",
       "  Text(1.0999499537032376, -0.010492823654571666, 'Phillip Island'),\n",
       "  Text(1.0999566184574614, -0.009769212436358818, 'Penola'),\n",
       "  Text(1.0999628071780836, -0.009045596990276156, 'Paynesville'),\n",
       "  Text(1.0999685198624252, -0.008321977629486272, 'Mohali'),\n",
       "  Text(1.0999737565080143, -0.007598354667153454, 'Palm Cove'),\n",
       "  Text(1.0999785171125844, -0.006874728416443548, 'Ojo Caliente'),\n",
       "  Text(1.0999828016740756, -0.006151099190523824, 'Montville'),\n",
       "  Text(1.099986610190633, -0.00542746730256284, 'Monroe'),\n",
       "  Text(1.099989942660609, -0.004703833065730304, 'Miller'),\n",
       "  Text(1.099992799082561, -0.0039801967931969405, 'Middleton Beach'),\n",
       "  Text(1.0999951794552532, -0.003256558798134357, 'Panchkula'),\n",
       "  Text(1.099997083777655, -0.0025329193937149055, 'Mc Millan'),\n",
       "  Text(1.0999985120489424, -0.0018092788931115477, 'Mayfield'),\n",
       "  Text(1.0999994642684974, -0.0010856376094977205, 'Macedon'),\n",
       "  Text(1.0999999404359078, -0.0003619958560471987, 'Vineland Station')])"
      ]
     },
     "execution_count": 164,
     "metadata": {},
     "output_type": "execute_result"
    },
    {
     "data": {
      "image/png": "[encoded data removed]",
      "text/plain": [
       "<Figure size 864x432 with 1 Axes>"
      ]
     },
     "metadata": {},
     "output_type": "display_data"
    }
   ],
   "source": [
    "plt.pie(x = city_value, labels = city_label )"
   ]
  },
  {
   "cell_type": "code",
   "execution_count": 168,
   "id": "501b3b13",
   "metadata": {},
   "outputs": [
    {
     "data": {
      "text/plain": [
       "([<matplotlib.patches.Wedge at 0x2b4aef2f730>,\n",
       "  <matplotlib.patches.Wedge at 0x2b4aef2fe50>,\n",
       "  <matplotlib.patches.Wedge at 0x2b4aef3a5b0>],\n",
       " [Text(-0.6836225695617262, 0.8617773392157762, 'New Delhi'),\n",
       "  Text(0.24897482286810813, -1.0714530029720364, 'Gurgaon'),\n",
       "  Text(0.9941442744692855, -0.47082604169686504, 'Noida')],\n",
       " [Text(-0.37288503794275973, 0.47006036684496877, '71.35%'),\n",
       "  Text(0.13580444883714987, -0.5844289107120197, '14.57%'),\n",
       "  Text(0.542260513346883, -0.25681420456192633, '14.08%')])"
      ]
     },
     "execution_count": 168,
     "metadata": {},
     "output_type": "execute_result"
    },
    {
     "data": {
      "image/png": "[encoded data removed]",
      "text/plain": [
       "<Figure size 864x432 with 1 Axes>"
      ]
     },
     "metadata": {},
     "output_type": "display_data"
    }
   ],
   "source": [
    "# Lets see top 3 cities\n",
    "plt.pie(x = city_value[:3], labels = city_label[:3], autopct='%1.2f%%' )"
   ]
  },
  {
   "cell_type": "code",
   "execution_count": null,
   "id": "e08e486b",
   "metadata": {},
   "outputs": [],
   "source": [
    "# Observation\n",
    "1. New Delhi has the Maximum no. of Transactions ie 71.35"
   ]
  },
  {
   "cell_type": "code",
   "execution_count": 169,
   "id": "bf176826",
   "metadata": {},
   "outputs": [],
   "source": [
    "# Top 10 Cuisines"
   ]
  },
  {
   "cell_type": "code",
   "execution_count": 219,
   "id": "139a3dda",
   "metadata": {},
   "outputs": [
    {
     "data": {
      "text/plain": [
       "North Indian                                             936\n",
       "North Indian, Chinese                                    511\n",
       "Chinese                                                  354\n",
       "Fast Food                                                354\n",
       "North Indian, Mughlai                                    334\n",
       "                                                        ... \n",
       "Bengali, Fast Food                                         1\n",
       "North Indian, Rajasthani, Asian                            1\n",
       "Chinese, Thai, Malaysian, Indonesian                       1\n",
       "Bakery, Desserts, North Indian, Bengali, South Indian      1\n",
       "Italian, World Cuisine                                     1\n",
       "Name: Cuisines, Length: 1825, dtype: int64"
      ]
     },
     "execution_count": 219,
     "metadata": {},
     "output_type": "execute_result"
    }
   ],
   "source": [
    "final_df['Cuisines'].value_counts()"
   ]
  },
  {
   "cell_type": "code",
   "execution_count": 181,
   "id": "1b5eaa18",
   "metadata": {},
   "outputs": [],
   "source": [
    "cuisine_names = final_df['Cuisines'].value_counts().index"
   ]
  },
  {
   "cell_type": "code",
   "execution_count": 182,
   "id": "dd15e5fb",
   "metadata": {},
   "outputs": [],
   "source": [
    "cuisine_value = final_df['Cuisines'].value_counts().values"
   ]
  },
  {
   "cell_type": "code",
   "execution_count": 183,
   "id": "0d3d65e9",
   "metadata": {},
   "outputs": [
    {
     "data": {
      "text/plain": [
       "Index(['North Indian', 'North Indian, Chinese', 'Chinese', 'Fast Food',\n",
       "       'North Indian, Mughlai', 'Cafe', 'Bakery',\n",
       "       'North Indian, Mughlai, Chinese', 'Bakery, Desserts', 'Street Food',\n",
       "       ...\n",
       "       'Cafe, Pizza, Burger',\n",
       "       'Healthy Food, Continental, Juices, Beverages, Italian, Salad, Lebanese',\n",
       "       'Goan, American, Portuguese', 'South Indian, Desserts, Beverages',\n",
       "       'Healthy Food, North Indian, Italian, Salad', 'Bengali, Fast Food',\n",
       "       'North Indian, Rajasthani, Asian',\n",
       "       'Chinese, Thai, Malaysian, Indonesian',\n",
       "       'Bakery, Desserts, North Indian, Bengali, South Indian',\n",
       "       'Italian, World Cuisine'],\n",
       "      dtype='object', length=1825)"
      ]
     },
     "execution_count": 183,
     "metadata": {},
     "output_type": "execute_result"
    }
   ],
   "source": [
    "cuisine_names"
   ]
  },
  {
   "cell_type": "code",
   "execution_count": 184,
   "id": "5d3ecfaf",
   "metadata": {},
   "outputs": [
    {
     "data": {
      "text/plain": [
       "array([936, 511, 354, ...,   1,   1,   1], dtype=int64)"
      ]
     },
     "execution_count": 184,
     "metadata": {},
     "output_type": "execute_result"
    }
   ],
   "source": [
    "cuisine_value"
   ]
  },
  {
   "cell_type": "code",
   "execution_count": 188,
   "id": "43edab23",
   "metadata": {},
   "outputs": [
    {
     "data": {
      "text/plain": [
       "([<matplotlib.patches.Wedge at 0x2b4b2d0d820>,\n",
       "  <matplotlib.patches.Wedge at 0x2b4b2d0df40>,\n",
       "  <matplotlib.patches.Wedge at 0x2b4b2cfd6a0>,\n",
       "  <matplotlib.patches.Wedge at 0x2b4b2cfddc0>,\n",
       "  <matplotlib.patches.Wedge at 0x2b4b2d09520>,\n",
       "  <matplotlib.patches.Wedge at 0x2b4b2d09c40>,\n",
       "  <matplotlib.patches.Wedge at 0x2b4b2d1b3a0>,\n",
       "  <matplotlib.patches.Wedge at 0x2b4b2d1bac0>,\n",
       "  <matplotlib.patches.Wedge at 0x2b4b2aed220>,\n",
       "  <matplotlib.patches.Wedge at 0x2b4b2aed940>],\n",
       " [Text(0.7383739846958008, 0.8153550507137645, 'North Indian'),\n",
       "  Text(-0.5794679314239953, 0.9349956772366362, 'North Indian, Chinese'),\n",
       "  Text(-1.067309479615702, 0.26617752482593154, 'Chinese'),\n",
       "  Text(-1.0185984499802057, -0.4152796620326146, 'Fast Food'),\n",
       "  Text(-0.5935788454809928, -0.9261015895664211, 'North Indian, Mughlai'),\n",
       "  Text(-0.005887079599915552, -1.0999842463843672, 'Cafe'),\n",
       "  Text(0.4842062514572988, -0.9876964645323336, 'Bakery'),\n",
       "  Text(0.808736477166136, -0.7456174022251013, 'North Indian, Mughlai, Chinese'),\n",
       "  Text(1.0055375294202338, -0.44597564611473206, 'Bakery, Desserts'),\n",
       "  Text(1.090298995560443, -0.14576728123927227, 'Street Food')],\n",
       " [Text(0.4027494461977095, 0.4447391185711442, '26.58%'),\n",
       "  Text(-0.316073417140361, 0.5099976421290743, '14.51%'),\n",
       "  Text(-0.5821688070631101, 0.14518774081414446, '10.05%'),\n",
       "  Text(-0.5555991545346576, -0.22651617929051704, '10.05%'),\n",
       "  Text(-0.32377027935326874, -0.5051463215816842, '9.48%'),\n",
       "  Text(-0.003211134327226664, -0.5999914071187457, '8.49%'),\n",
       "  Text(0.26411250079489024, -0.5387435261085456, '6.19%'),\n",
       "  Text(0.441128987545165, -0.40670040121369155, '5.59%'),\n",
       "  Text(0.5484750160474001, -0.24325944333530836, '4.83%'),\n",
       "  Text(0.5947085430329688, -0.07950942613051214, '4.23%')])"
      ]
     },
     "execution_count": 188,
     "metadata": {},
     "output_type": "execute_result"
    },
    {
     "data": {
      "image/png": "[encoded data removed]",
      "text/plain": [
       "<Figure size 864x432 with 1 Axes>"
      ]
     },
     "metadata": {},
     "output_type": "display_data"
    }
   ],
   "source": [
    "plt.pie(x = cuisine_value[:10], labels = cuisine_names[:10], autopct='%1.2f%%')"
   ]
  },
  {
   "cell_type": "code",
   "execution_count": null,
   "id": "df70da6b",
   "metadata": {},
   "outputs": [],
   "source": [
    "#Observation\n",
    "out of the various Cuisines People Prefer NorthIndian food the most\n"
   ]
  },
  {
   "cell_type": "code",
   "execution_count": 195,
   "id": "9c08251c",
   "metadata": {},
   "outputs": [
    {
     "data": {
      "text/plain": [
       "([<matplotlib.patches.Wedge at 0x2b4b2909b80>,\n",
       "  <matplotlib.patches.Wedge at 0x2b4b29190a0>,\n",
       "  <matplotlib.patches.Wedge at 0x2b4b2919580>,\n",
       "  <matplotlib.patches.Wedge at 0x2b4b2919a60>,\n",
       "  <matplotlib.patches.Wedge at 0x2b4b2919f40>],\n",
       " [Text(0.8899186877588753, 0.6465637858537406, 'Bengali, Fast Food'),\n",
       "  Text(-0.3399187231970732, 1.046162158377023, 'North Indian, Rajasthani, Asian'),\n",
       "  Text(-1.0999999999999988, -5.149471622296949e-08, 'Chinese, Thai, Malaysian, Indonesian'),\n",
       "  Text(-0.33991862524830174, -1.0461621902025062, 'Bakery, Desserts, North Indian, Bengali, South Indian'),\n",
       "  Text(0.8899187482945414, -0.6465637025335375, 'Italian, World Cuisine')])"
      ]
     },
     "execution_count": 195,
     "metadata": {},
     "output_type": "execute_result"
    },
    {
     "data": {
      "image/png": "[encoded data removed]",
      "text/plain": [
       "<Figure size 864x432 with 1 Axes>"
      ]
     },
     "metadata": {},
     "output_type": "display_data"
    }
   ],
   "source": [
    "plt.pie(x = cuisine_value[1820:], labels = cuisine_names[1820:])"
   ]
  },
  {
   "cell_type": "code",
   "execution_count": null,
   "id": "a7d54e0c",
   "metadata": {},
   "outputs": [],
   "source": [
    "#Observation\n",
    "Above is the list of food item people prefer the less."
   ]
  },
  {
   "cell_type": "code",
   "execution_count": 196,
   "id": "b427a634",
   "metadata": {},
   "outputs": [],
   "source": [
    "# Best Restaurant in town (has maximum votes)"
   ]
  },
  {
   "cell_type": "code",
   "execution_count": 197,
   "id": "80928f45",
   "metadata": {},
   "outputs": [
    {
     "data": {
      "text/plain": [
       "Index(['Restaurant ID', 'Restaurant Name', 'Country Code', 'City', 'Address',\n",
       "       'Locality', 'Locality Verbose', 'Longitude', 'Latitude', 'Cuisines',\n",
       "       'Average Cost for two', 'Currency', 'Has Table booking',\n",
       "       'Has Online delivery', 'Is delivering now', 'Switch to order menu',\n",
       "       'Price range', 'Aggregate rating', 'Rating color', 'Rating text',\n",
       "       'Votes', 'Country'],\n",
       "      dtype='object')"
      ]
     },
     "execution_count": 197,
     "metadata": {},
     "output_type": "execute_result"
    }
   ],
   "source": [
    "final_df.columns"
   ]
  },
  {
   "cell_type": "code",
   "execution_count": 226,
   "id": "e4ffecd6",
   "metadata": {},
   "outputs": [
    {
     "data": {
      "text/plain": [
       "Cafe Coffee Day             83\n",
       "Domino's Pizza              79\n",
       "Subway                      63\n",
       "Green Chick Chop            51\n",
       "McDonald's                  48\n",
       "                            ..\n",
       "Odeon Social                 1\n",
       "Johnny Rockets               1\n",
       "House of Commons             1\n",
       "HotMess                      1\n",
       "Walter's Coffee Roastery     1\n",
       "Name: Restaurant Name, Length: 7446, dtype: int64"
      ]
     },
     "execution_count": 226,
     "metadata": {},
     "output_type": "execute_result"
    }
   ],
   "source": [
    "final_df['Restaurant Name'].value_counts()"
   ]
  },
  {
   "cell_type": "code",
   "execution_count": 227,
   "id": "35de1b7b",
   "metadata": {},
   "outputs": [
    {
     "data": {
      "text/plain": [
       "Restaurant Name       Votes\n",
       " Let's Burrrp         0        1\n",
       "#45                   209      1\n",
       "#Dilliwaala6          124      1\n",
       "#InstaFreeze          2        1\n",
       "#OFF Campus           216      1\n",
       "                              ..\n",
       "t Lounge by Dilmah    34       1\n",
       "tashas                374      1\n",
       "wagamama              131      1\n",
       "{Niche} - Cafe & Bar  492      1\n",
       "íukuraÛôa SofrasÛ±   296      1\n",
       "Length: 9330, dtype: int64"
      ]
     },
     "execution_count": 227,
     "metadata": {},
     "output_type": "execute_result"
    }
   ],
   "source": [
    "final_df.groupby(['Restaurant Name', 'Votes']).size()"
   ]
  },
  {
   "cell_type": "code",
   "execution_count": 236,
   "id": "32ecd47c",
   "metadata": {},
   "outputs": [
    {
     "data": {
      "text/html": [
       "<div>\n",
       "<style scoped>\n",
       "    .dataframe tbody tr th:only-of-type {\n",
       "        vertical-align: middle;\n",
       "    }\n",
       "\n",
       "    .dataframe tbody tr th {\n",
       "        vertical-align: top;\n",
       "    }\n",
       "\n",
       "    .dataframe thead th {\n",
       "        text-align: right;\n",
       "    }\n",
       "</style>\n",
       "<table border=\"1\" class=\"dataframe\">\n",
       "  <thead>\n",
       "    <tr style=\"text-align: right;\">\n",
       "      <th></th>\n",
       "      <th>index</th>\n",
       "      <th>Restaurant Name</th>\n",
       "      <th>City</th>\n",
       "      <th>Cuisines</th>\n",
       "      <th>Votes</th>\n",
       "    </tr>\n",
       "  </thead>\n",
       "  <tbody>\n",
       "    <tr>\n",
       "      <th>0</th>\n",
       "      <td>728</td>\n",
       "      <td>Toit</td>\n",
       "      <td>Bangalore</td>\n",
       "      <td>Italian, American, Pizza</td>\n",
       "      <td>10934</td>\n",
       "    </tr>\n",
       "  </tbody>\n",
       "</table>\n",
       "</div>"
      ],
      "text/plain": [
       "   index Restaurant Name       City                  Cuisines  Votes\n",
       "0    728            Toit  Bangalore  Italian, American, Pizza  10934"
      ]
     },
     "execution_count": 236,
     "metadata": {},
     "output_type": "execute_result"
    }
   ],
   "source": [
    "final_df[final_df['Votes']== max(final_df['Votes'])][['Restaurant Name', 'City','Cuisines', 'Votes']].reset_index()"
   ]
  }
 ],
 "metadata": {
  "kernelspec": {
   "display_name": "Python 3 (ipykernel)",
   "language": "python",
   "name": "python3"
  },
  "language_info": {
   "codemirror_mode": {
    "name": "ipython",
    "version": 3
   },
   "file_extension": ".py",
   "mimetype": "text/x-python",
   "name": "python",
   "nbconvert_exporter": "python",
   "pygments_lexer": "ipython3",
   "version": "3.9.12"
  }
 },
 "nbformat": 4,
 "nbformat_minor": 5
}
